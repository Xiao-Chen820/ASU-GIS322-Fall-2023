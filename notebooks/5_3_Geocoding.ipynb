{
  "nbformat": 4,
  "nbformat_minor": 0,
  "metadata": {
    "kernelspec": {
      "display_name": "Python [conda root]",
      "language": "python",
      "name": "conda-root-py"
    },
    "language_info": {
      "codemirror_mode": {
        "name": "ipython",
        "version": 3
      },
      "file_extension": ".py",
      "mimetype": "text/x-python",
      "name": "python",
      "nbconvert_exporter": "python",
      "pygments_lexer": "ipython3",
      "version": "3.5.4"
    },
    "colab": {
      "name": "5.3 Geocoding.ipynb",
      "provenance": [],
      "collapsed_sections": [],
      "include_colab_link": true
    }
  },
  "cells": [
    {
      "cell_type": "markdown",
      "metadata": {
        "id": "view-in-github",
        "colab_type": "text"
      },
      "source": [
        "<a href=\"https://colab.research.google.com/github/Yuanyuan-T/ASU-GIS-322-Summer-2021/blob/master/notebooks/5_3_Geocoding.ipynb\" target=\"_parent\"><img src=\"https://colab.research.google.com/assets/colab-badge.svg\" alt=\"Open In Colab\"/></a>"
      ]
    },
    {
      "cell_type": "markdown",
      "metadata": {
        "id": "kXNUDC9dk8ku"
      },
      "source": [
        "# 5.3 Geocoding\n",
        "\n",
        "<br></br>\n",
        "What is geocoding?\n",
        "\n",
        "<br></br>\n",
        "\n",
        "Geocoding is to converti addresses into coordinates (or vice versa), which is a really common GIS task. For example, we might want to know the longitude and latitude from a business address. Fortunately, there are convinient libraries in python that make the geocoding task really easy."
      ]
    },
    {
      "cell_type": "markdown",
      "metadata": {
        "id": "Te4wPJp8k8k2"
      },
      "source": [
        "\n",
        "\n",
        "<br></br>\n",
        "One of the libraries that can do the geocoding for us is `geopy` (https://geopy.readthedocs.io/en/stable/#module-geopy.geocoders) that makes it easy to locate the coordinates of addresses, cities, countries, and landmarks across the globe using third-party geocoders and other data sources. You can think about `geopy` as a \"wrapper\"; however, what's inside is geocoder services, and many of them are not FREE! (also can be very expensive if you have large queries). Some of the providers are:\n",
        "\n",
        "* ArcGIS online geocoding service (https://geocode.arcgis.com).\n",
        "* Google Geocoding API (https://developers.google.com/maps/documentation/geocoding/start).\n",
        "* OpenStreetMap (Nominatim) (https://nominatim.openstreetmap.org).\n",
        "\n",
        "\n"
      ]
    },
    {
      "cell_type": "markdown",
      "metadata": {
        "id": "Vi1ALMi7k8k6"
      },
      "source": [
        "<br></br>\n",
        "Great thing about `geopy` is that it is integrated in `geopandas`, which makes it very friendly (native) to use. Now let's give it a try.\n",
        "\n",
        "\n",
        "\n"
      ]
    },
    {
      "cell_type": "code",
      "metadata": {
        "id": "xJ46N7l_k8lA"
      },
      "source": [
        "my_address = \"1037 South Farmer Ave, Tempe, Arizona\""
      ],
      "execution_count": 1,
      "outputs": []
    },
    {
      "cell_type": "markdown",
      "metadata": {
        "id": "YefxJavUk8lN"
      },
      "source": [
        "<br></br>\n",
        "Above is my apartment address, is someone living close to me?\n",
        "<br></br>\n",
        "And next, let's try to convert this address to coordinates. The command is: \n",
        "\n",
        "\n",
        "<br></br>\n",
        "`geopandas.tools.geocode.eocode(my_address, provider='nominatim')`\n",
        "    \n",
        "where we use the OpenStreetMap's Nominatim's geocoding service.\n"
      ]
    },
    {
      "cell_type": "code",
      "metadata": {
        "id": "wb-xdaJsk8lS",
        "colab": {
          "base_uri": "https://localhost:8080/"
        },
        "outputId": "2f00a98f-a5f5-440b-a5de-a1979896e33b"
      },
      "source": [
        "!pip install geopandas\n",
        "from geopandas.tools import geocode\n",
        "# Geocode addresses with Nominatim backend\n",
        "coords = geocode(my_address, provider='nominatim')"
      ],
      "execution_count": 2,
      "outputs": [
        {
          "output_type": "stream",
          "text": [
            "Collecting geopandas\n",
            "\u001b[?25l  Downloading https://files.pythonhosted.org/packages/d7/bf/e9cefb69d39155d122b6ddca53893b61535fa6ffdad70bf5ef708977f53f/geopandas-0.9.0-py2.py3-none-any.whl (994kB)\n",
            "\r\u001b[K     |▎                               | 10kB 14.4MB/s eta 0:00:01\r\u001b[K     |▋                               | 20kB 20.4MB/s eta 0:00:01\r\u001b[K     |█                               | 30kB 23.7MB/s eta 0:00:01\r\u001b[K     |█▎                              | 40kB 18.2MB/s eta 0:00:01\r\u001b[K     |█▋                              | 51kB 8.7MB/s eta 0:00:01\r\u001b[K     |██                              | 61kB 9.9MB/s eta 0:00:01\r\u001b[K     |██▎                             | 71kB 9.5MB/s eta 0:00:01\r\u001b[K     |██▋                             | 81kB 10.0MB/s eta 0:00:01\r\u001b[K     |███                             | 92kB 10.8MB/s eta 0:00:01\r\u001b[K     |███▎                            | 102kB 9.2MB/s eta 0:00:01\r\u001b[K     |███▋                            | 112kB 9.2MB/s eta 0:00:01\r\u001b[K     |████                            | 122kB 9.2MB/s eta 0:00:01\r\u001b[K     |████▎                           | 133kB 9.2MB/s eta 0:00:01\r\u001b[K     |████▋                           | 143kB 9.2MB/s eta 0:00:01\r\u001b[K     |█████                           | 153kB 9.2MB/s eta 0:00:01\r\u001b[K     |█████▎                          | 163kB 9.2MB/s eta 0:00:01\r\u001b[K     |█████▋                          | 174kB 9.2MB/s eta 0:00:01\r\u001b[K     |██████                          | 184kB 9.2MB/s eta 0:00:01\r\u001b[K     |██████▎                         | 194kB 9.2MB/s eta 0:00:01\r\u001b[K     |██████▋                         | 204kB 9.2MB/s eta 0:00:01\r\u001b[K     |███████                         | 215kB 9.2MB/s eta 0:00:01\r\u001b[K     |███████▎                        | 225kB 9.2MB/s eta 0:00:01\r\u001b[K     |███████▋                        | 235kB 9.2MB/s eta 0:00:01\r\u001b[K     |████████                        | 245kB 9.2MB/s eta 0:00:01\r\u001b[K     |████████▎                       | 256kB 9.2MB/s eta 0:00:01\r\u001b[K     |████████▋                       | 266kB 9.2MB/s eta 0:00:01\r\u001b[K     |█████████                       | 276kB 9.2MB/s eta 0:00:01\r\u001b[K     |█████████▎                      | 286kB 9.2MB/s eta 0:00:01\r\u001b[K     |█████████▌                      | 296kB 9.2MB/s eta 0:00:01\r\u001b[K     |█████████▉                      | 307kB 9.2MB/s eta 0:00:01\r\u001b[K     |██████████▏                     | 317kB 9.2MB/s eta 0:00:01\r\u001b[K     |██████████▌                     | 327kB 9.2MB/s eta 0:00:01\r\u001b[K     |██████████▉                     | 337kB 9.2MB/s eta 0:00:01\r\u001b[K     |███████████▏                    | 348kB 9.2MB/s eta 0:00:01\r\u001b[K     |███████████▌                    | 358kB 9.2MB/s eta 0:00:01\r\u001b[K     |███████████▉                    | 368kB 9.2MB/s eta 0:00:01\r\u001b[K     |████████████▏                   | 378kB 9.2MB/s eta 0:00:01\r\u001b[K     |████████████▌                   | 389kB 9.2MB/s eta 0:00:01\r\u001b[K     |████████████▉                   | 399kB 9.2MB/s eta 0:00:01\r\u001b[K     |█████████████▏                  | 409kB 9.2MB/s eta 0:00:01\r\u001b[K     |█████████████▌                  | 419kB 9.2MB/s eta 0:00:01\r\u001b[K     |█████████████▉                  | 430kB 9.2MB/s eta 0:00:01\r\u001b[K     |██████████████▏                 | 440kB 9.2MB/s eta 0:00:01\r\u001b[K     |██████████████▌                 | 450kB 9.2MB/s eta 0:00:01\r\u001b[K     |██████████████▉                 | 460kB 9.2MB/s eta 0:00:01\r\u001b[K     |███████████████▏                | 471kB 9.2MB/s eta 0:00:01\r\u001b[K     |███████████████▌                | 481kB 9.2MB/s eta 0:00:01\r\u001b[K     |███████████████▉                | 491kB 9.2MB/s eta 0:00:01\r\u001b[K     |████████████████▏               | 501kB 9.2MB/s eta 0:00:01\r\u001b[K     |████████████████▌               | 512kB 9.2MB/s eta 0:00:01\r\u001b[K     |████████████████▉               | 522kB 9.2MB/s eta 0:00:01\r\u001b[K     |█████████████████▏              | 532kB 9.2MB/s eta 0:00:01\r\u001b[K     |█████████████████▌              | 542kB 9.2MB/s eta 0:00:01\r\u001b[K     |█████████████████▉              | 552kB 9.2MB/s eta 0:00:01\r\u001b[K     |██████████████████▏             | 563kB 9.2MB/s eta 0:00:01\r\u001b[K     |██████████████████▌             | 573kB 9.2MB/s eta 0:00:01\r\u001b[K     |██████████████████▊             | 583kB 9.2MB/s eta 0:00:01\r\u001b[K     |███████████████████             | 593kB 9.2MB/s eta 0:00:01\r\u001b[K     |███████████████████▍            | 604kB 9.2MB/s eta 0:00:01\r\u001b[K     |███████████████████▊            | 614kB 9.2MB/s eta 0:00:01\r\u001b[K     |████████████████████            | 624kB 9.2MB/s eta 0:00:01\r\u001b[K     |████████████████████▍           | 634kB 9.2MB/s eta 0:00:01\r\u001b[K     |████████████████████▊           | 645kB 9.2MB/s eta 0:00:01\r\u001b[K     |█████████████████████           | 655kB 9.2MB/s eta 0:00:01\r\u001b[K     |█████████████████████▍          | 665kB 9.2MB/s eta 0:00:01\r\u001b[K     |█████████████████████▊          | 675kB 9.2MB/s eta 0:00:01\r\u001b[K     |██████████████████████          | 686kB 9.2MB/s eta 0:00:01\r\u001b[K     |██████████████████████▍         | 696kB 9.2MB/s eta 0:00:01\r\u001b[K     |██████████████████████▊         | 706kB 9.2MB/s eta 0:00:01\r\u001b[K     |███████████████████████         | 716kB 9.2MB/s eta 0:00:01\r\u001b[K     |███████████████████████▍        | 727kB 9.2MB/s eta 0:00:01\r\u001b[K     |███████████████████████▊        | 737kB 9.2MB/s eta 0:00:01\r\u001b[K     |████████████████████████        | 747kB 9.2MB/s eta 0:00:01\r\u001b[K     |████████████████████████▍       | 757kB 9.2MB/s eta 0:00:01\r\u001b[K     |████████████████████████▊       | 768kB 9.2MB/s eta 0:00:01\r\u001b[K     |█████████████████████████       | 778kB 9.2MB/s eta 0:00:01\r\u001b[K     |█████████████████████████▍      | 788kB 9.2MB/s eta 0:00:01\r\u001b[K     |█████████████████████████▊      | 798kB 9.2MB/s eta 0:00:01\r\u001b[K     |██████████████████████████      | 808kB 9.2MB/s eta 0:00:01\r\u001b[K     |██████████████████████████▍     | 819kB 9.2MB/s eta 0:00:01\r\u001b[K     |██████████████████████████▊     | 829kB 9.2MB/s eta 0:00:01\r\u001b[K     |███████████████████████████     | 839kB 9.2MB/s eta 0:00:01\r\u001b[K     |███████████████████████████▍    | 849kB 9.2MB/s eta 0:00:01\r\u001b[K     |███████████████████████████▊    | 860kB 9.2MB/s eta 0:00:01\r\u001b[K     |████████████████████████████    | 870kB 9.2MB/s eta 0:00:01\r\u001b[K     |████████████████████████████▎   | 880kB 9.2MB/s eta 0:00:01\r\u001b[K     |████████████████████████████▋   | 890kB 9.2MB/s eta 0:00:01\r\u001b[K     |█████████████████████████████   | 901kB 9.2MB/s eta 0:00:01\r\u001b[K     |█████████████████████████████▎  | 911kB 9.2MB/s eta 0:00:01\r\u001b[K     |█████████████████████████████▋  | 921kB 9.2MB/s eta 0:00:01\r\u001b[K     |██████████████████████████████  | 931kB 9.2MB/s eta 0:00:01\r\u001b[K     |██████████████████████████████▎ | 942kB 9.2MB/s eta 0:00:01\r\u001b[K     |██████████████████████████████▋ | 952kB 9.2MB/s eta 0:00:01\r\u001b[K     |███████████████████████████████ | 962kB 9.2MB/s eta 0:00:01\r\u001b[K     |███████████████████████████████▎| 972kB 9.2MB/s eta 0:00:01\r\u001b[K     |███████████████████████████████▋| 983kB 9.2MB/s eta 0:00:01\r\u001b[K     |████████████████████████████████| 993kB 9.2MB/s eta 0:00:01\r\u001b[K     |████████████████████████████████| 1.0MB 9.2MB/s \n",
            "\u001b[?25hRequirement already satisfied: pandas>=0.24.0 in /usr/local/lib/python3.7/dist-packages (from geopandas) (1.1.5)\n",
            "Collecting pyproj>=2.2.0\n",
            "\u001b[?25l  Downloading https://files.pythonhosted.org/packages/11/1d/1c54c672c2faf08d28fe78e15d664c048f786225bef95ad87b6c435cf69e/pyproj-3.1.0-cp37-cp37m-manylinux2010_x86_64.whl (6.6MB)\n",
            "\u001b[K     |████████████████████████████████| 6.6MB 34.2MB/s \n",
            "\u001b[?25hRequirement already satisfied: shapely>=1.6 in /usr/local/lib/python3.7/dist-packages (from geopandas) (1.7.1)\n",
            "Collecting fiona>=1.8\n",
            "\u001b[?25l  Downloading https://files.pythonhosted.org/packages/9c/fc/9807326c37a6bfb2393ae3e1cca147aa74844562c4d5daa782d6e97ad2bc/Fiona-1.8.20-cp37-cp37m-manylinux1_x86_64.whl (15.4MB)\n",
            "\u001b[K     |████████████████████████████████| 15.4MB 187kB/s \n",
            "\u001b[?25hRequirement already satisfied: python-dateutil>=2.7.3 in /usr/local/lib/python3.7/dist-packages (from pandas>=0.24.0->geopandas) (2.8.1)\n",
            "Requirement already satisfied: pytz>=2017.2 in /usr/local/lib/python3.7/dist-packages (from pandas>=0.24.0->geopandas) (2018.9)\n",
            "Requirement already satisfied: numpy>=1.15.4 in /usr/local/lib/python3.7/dist-packages (from pandas>=0.24.0->geopandas) (1.19.5)\n",
            "Requirement already satisfied: certifi in /usr/local/lib/python3.7/dist-packages (from pyproj>=2.2.0->geopandas) (2021.5.30)\n",
            "Collecting munch\n",
            "  Downloading https://files.pythonhosted.org/packages/cc/ab/85d8da5c9a45e072301beb37ad7f833cd344e04c817d97e0cc75681d248f/munch-2.5.0-py2.py3-none-any.whl\n",
            "Requirement already satisfied: click>=4.0 in /usr/local/lib/python3.7/dist-packages (from fiona>=1.8->geopandas) (7.1.2)\n",
            "Collecting cligj>=0.5\n",
            "  Downloading https://files.pythonhosted.org/packages/73/86/43fa9f15c5b9fb6e82620428827cd3c284aa933431405d1bcf5231ae3d3e/cligj-0.7.2-py3-none-any.whl\n",
            "Requirement already satisfied: attrs>=17 in /usr/local/lib/python3.7/dist-packages (from fiona>=1.8->geopandas) (21.2.0)\n",
            "Requirement already satisfied: six>=1.7 in /usr/local/lib/python3.7/dist-packages (from fiona>=1.8->geopandas) (1.15.0)\n",
            "Collecting click-plugins>=1.0\n",
            "  Downloading https://files.pythonhosted.org/packages/e9/da/824b92d9942f4e472702488857914bdd50f73021efea15b4cad9aca8ecef/click_plugins-1.1.1-py2.py3-none-any.whl\n",
            "Requirement already satisfied: setuptools in /usr/local/lib/python3.7/dist-packages (from fiona>=1.8->geopandas) (57.2.0)\n",
            "Installing collected packages: pyproj, munch, cligj, click-plugins, fiona, geopandas\n",
            "Successfully installed click-plugins-1.1.1 cligj-0.7.2 fiona-1.8.20 geopandas-0.9.0 munch-2.5.0 pyproj-3.1.0\n"
          ],
          "name": "stdout"
        },
        {
          "output_type": "stream",
          "text": [
            "/usr/local/lib/python3.7/dist-packages/geopy/geocoders/osm.py:143: UserWarning: Using Nominatim with the default \"geopy/1.17.0\" `user_agent` is strongly discouraged, as it violates Nominatim's ToS https://operations.osmfoundation.org/policies/nominatim/ and may possibly cause 403 and 429 HTTP errors. Please specify a custom `user_agent` with `Nominatim(user_agent=\"my-application\")` or by overriding the default `user_agent`: `geopy.geocoders.options.default_user_agent = \"my-application\"`. In geopy 2.0 this will become an exception.\n",
            "  UserWarning\n"
          ],
          "name": "stderr"
        }
      ]
    },
    {
      "cell_type": "code",
      "metadata": {
        "id": "R3tnKWOwk8lZ",
        "colab": {
          "base_uri": "https://localhost:8080/",
          "height": 80
        },
        "outputId": "97566868-51d8-4d5d-b5cd-599e80c6afdc"
      },
      "source": [
        "coords"
      ],
      "execution_count": 3,
      "outputs": [
        {
          "output_type": "execute_result",
          "data": {
            "text/html": [
              "<div>\n",
              "<style scoped>\n",
              "    .dataframe tbody tr th:only-of-type {\n",
              "        vertical-align: middle;\n",
              "    }\n",
              "\n",
              "    .dataframe tbody tr th {\n",
              "        vertical-align: top;\n",
              "    }\n",
              "\n",
              "    .dataframe thead th {\n",
              "        text-align: right;\n",
              "    }\n",
              "</style>\n",
              "<table border=\"1\" class=\"dataframe\">\n",
              "  <thead>\n",
              "    <tr style=\"text-align: right;\">\n",
              "      <th></th>\n",
              "      <th>geometry</th>\n",
              "      <th>address</th>\n",
              "    </tr>\n",
              "  </thead>\n",
              "  <tbody>\n",
              "    <tr>\n",
              "      <th>0</th>\n",
              "      <td>POINT (-111.94414 33.41763)</td>\n",
              "      <td>1037, South Farmer Avenue, Tempe Junction, Tem...</td>\n",
              "    </tr>\n",
              "  </tbody>\n",
              "</table>\n",
              "</div>"
            ],
            "text/plain": [
              "                      geometry                                            address\n",
              "0  POINT (-111.94414 33.41763)  1037, South Farmer Avenue, Tempe Junction, Tem..."
            ]
          },
          "metadata": {
            "tags": []
          },
          "execution_count": 3
        }
      ]
    },
    {
      "cell_type": "markdown",
      "metadata": {
        "id": "aYbO4hekk8li"
      },
      "source": [
        "\n",
        "\n",
        "<br></br>\n",
        "What we get is a GeoDataFrame with only one row that contains my address and the coordinates, which seems to be quite accurate. (you can validate it on Google Maps)\n",
        "\n",
        "<br></br>\n",
        "`POINT (-111.944135926829 33.4176156097561)`\n",
        "\n"
      ]
    },
    {
      "cell_type": "markdown",
      "metadata": {
        "id": "jmJxvw88k8lk"
      },
      "source": [
        "<br></br>\n",
        "What if we have multiple addresses? We just need to give the `geocode` function a list of addresses. \n",
        "<br></br>\n",
        "For example, if we have two locations: My home and Desert Financial Arena.\n",
        "\n"
      ]
    },
    {
      "cell_type": "code",
      "metadata": {
        "id": "1Ln3spkfk8lm",
        "colab": {
          "base_uri": "https://localhost:8080/"
        },
        "outputId": "0bcbbdb3-5582-4dce-8e0a-de52d7a00cf0"
      },
      "source": [
        "my_address_list = [\"1037 South Farmer Ave, Tempe, Arizona\", \n",
        "                   \"Desert Financial Arena, Tempe, Arizona\"]\n",
        "\n",
        "coords_list = geocode(my_address_list, provider='nominatim')"
      ],
      "execution_count": 4,
      "outputs": [
        {
          "output_type": "stream",
          "text": [
            "/usr/local/lib/python3.7/dist-packages/geopy/geocoders/osm.py:143: UserWarning: Using Nominatim with the default \"geopy/1.17.0\" `user_agent` is strongly discouraged, as it violates Nominatim's ToS https://operations.osmfoundation.org/policies/nominatim/ and may possibly cause 403 and 429 HTTP errors. Please specify a custom `user_agent` with `Nominatim(user_agent=\"my-application\")` or by overriding the default `user_agent`: `geopy.geocoders.options.default_user_agent = \"my-application\"`. In geopy 2.0 this will become an exception.\n",
            "  UserWarning\n"
          ],
          "name": "stderr"
        }
      ]
    },
    {
      "cell_type": "code",
      "metadata": {
        "id": "shDCef6Mk8lq",
        "colab": {
          "base_uri": "https://localhost:8080/",
          "height": 111
        },
        "outputId": "1dff4907-128c-4145-af1f-f2f2af3af34c"
      },
      "source": [
        "coords_list"
      ],
      "execution_count": 5,
      "outputs": [
        {
          "output_type": "execute_result",
          "data": {
            "text/html": [
              "<div>\n",
              "<style scoped>\n",
              "    .dataframe tbody tr th:only-of-type {\n",
              "        vertical-align: middle;\n",
              "    }\n",
              "\n",
              "    .dataframe tbody tr th {\n",
              "        vertical-align: top;\n",
              "    }\n",
              "\n",
              "    .dataframe thead th {\n",
              "        text-align: right;\n",
              "    }\n",
              "</style>\n",
              "<table border=\"1\" class=\"dataframe\">\n",
              "  <thead>\n",
              "    <tr style=\"text-align: right;\">\n",
              "      <th></th>\n",
              "      <th>geometry</th>\n",
              "      <th>address</th>\n",
              "    </tr>\n",
              "  </thead>\n",
              "  <tbody>\n",
              "    <tr>\n",
              "      <th>0</th>\n",
              "      <td>POINT (-111.94414 33.41763)</td>\n",
              "      <td>1037, South Farmer Avenue, Tempe Junction, Tem...</td>\n",
              "    </tr>\n",
              "    <tr>\n",
              "      <th>1</th>\n",
              "      <td>POINT (-111.93101 33.42452)</td>\n",
              "      <td>Desert Financial Arena, East Veterans Way, Tem...</td>\n",
              "    </tr>\n",
              "  </tbody>\n",
              "</table>\n",
              "</div>"
            ],
            "text/plain": [
              "                      geometry                                            address\n",
              "0  POINT (-111.94414 33.41763)  1037, South Farmer Avenue, Tempe Junction, Tem...\n",
              "1  POINT (-111.93101 33.42452)  Desert Financial Arena, East Veterans Way, Tem..."
            ]
          },
          "metadata": {
            "tags": []
          },
          "execution_count": 5
        }
      ]
    },
    {
      "cell_type": "markdown",
      "metadata": {
        "id": "8M7tpN62k8lu"
      },
      "source": [
        "That being said, if we have a Excel table of addresses and needed be geocoded, we can do this in a batch."
      ]
    },
    {
      "cell_type": "markdown",
      "metadata": {
        "id": "5_ne5177k8lv"
      },
      "source": [
        "Let's try to plot those two locations on a map using the coordinates we obtained from the geocoder (I will talk about how to make a map like below  in more details in the Module 6)."
      ]
    },
    {
      "cell_type": "code",
      "metadata": {
        "id": "XMne5_DKk8lx",
        "colab": {
          "base_uri": "https://localhost:8080/",
          "height": 909
        },
        "outputId": "f0eecc34-8352-4fa7-e8d1-c12cb5ca55f4"
      },
      "source": [
        "import folium\n",
        "%matplotlib inline\n",
        "asu = folium.Map(\n",
        "    location=[33.4200, -111.9350],\n",
        "    tiles='Stamen Toner',\n",
        "    zoom_start=15\n",
        ")\n",
        "folium.Marker([coords_list.geometry[1].y, coords_list.geometry[1].x], popup='<i>Arena</i>').add_to(asu)\n",
        "folium.Marker([coords_list.geometry[0].y, coords_list.geometry[0].x], popup='<i>Home</i>').add_to(asu)\n",
        "\n",
        "display(asu)"
      ],
      "execution_count": 6,
      "outputs": [
        {
          "output_type": "display_data",
          "data": {
            "text/html": [
              "<div style=\"width:100%;\"><div style=\"position:relative;width:100%;height:0;padding-bottom:60%;\"><span style=\"color:#565656\">Make this Notebook Trusted to load map: File -> Trust Notebook</span><iframe src=\"about:blank\" style=\"position:absolute;width:100%;height:100%;left:0;top:0;border:none !important;\" data-html=%3C%21DOCTYPE%20html%3E%0A%3Chead%3E%20%20%20%20%0A%20%20%20%20%3Cmeta%20http-equiv%3D%22content-type%22%20content%3D%22text/html%3B%20charset%3DUTF-8%22%20/%3E%0A%20%20%20%20%3Cscript%3EL_PREFER_CANVAS%3Dfalse%3B%20L_NO_TOUCH%3Dfalse%3B%20L_DISABLE_3D%3Dfalse%3B%3C/script%3E%0A%20%20%20%20%3Cscript%20src%3D%22https%3A//cdn.jsdelivr.net/npm/leaflet%401.4.0/dist/leaflet.js%22%3E%3C/script%3E%0A%20%20%20%20%3Cscript%20src%3D%22https%3A//code.jquery.com/jquery-1.12.4.min.js%22%3E%3C/script%3E%0A%20%20%20%20%3Cscript%20src%3D%22https%3A//maxcdn.bootstrapcdn.com/bootstrap/3.2.0/js/bootstrap.min.js%22%3E%3C/script%3E%0A%20%20%20%20%3Cscript%20src%3D%22https%3A//cdnjs.cloudflare.com/ajax/libs/Leaflet.awesome-markers/2.0.2/leaflet.awesome-markers.js%22%3E%3C/script%3E%0A%20%20%20%20%3Clink%20rel%3D%22stylesheet%22%20href%3D%22https%3A//cdn.jsdelivr.net/npm/leaflet%401.4.0/dist/leaflet.css%22/%3E%0A%20%20%20%20%3Clink%20rel%3D%22stylesheet%22%20href%3D%22https%3A//maxcdn.bootstrapcdn.com/bootstrap/3.2.0/css/bootstrap.min.css%22/%3E%0A%20%20%20%20%3Clink%20rel%3D%22stylesheet%22%20href%3D%22https%3A//maxcdn.bootstrapcdn.com/bootstrap/3.2.0/css/bootstrap-theme.min.css%22/%3E%0A%20%20%20%20%3Clink%20rel%3D%22stylesheet%22%20href%3D%22https%3A//maxcdn.bootstrapcdn.com/font-awesome/4.6.3/css/font-awesome.min.css%22/%3E%0A%20%20%20%20%3Clink%20rel%3D%22stylesheet%22%20href%3D%22https%3A//cdnjs.cloudflare.com/ajax/libs/Leaflet.awesome-markers/2.0.2/leaflet.awesome-markers.css%22/%3E%0A%20%20%20%20%3Clink%20rel%3D%22stylesheet%22%20href%3D%22https%3A//rawcdn.githack.com/python-visualization/folium/master/folium/templates/leaflet.awesome.rotate.css%22/%3E%0A%20%20%20%20%3Cstyle%3Ehtml%2C%20body%20%7Bwidth%3A%20100%25%3Bheight%3A%20100%25%3Bmargin%3A%200%3Bpadding%3A%200%3B%7D%3C/style%3E%0A%20%20%20%20%3Cstyle%3E%23map%20%7Bposition%3Aabsolute%3Btop%3A0%3Bbottom%3A0%3Bright%3A0%3Bleft%3A0%3B%7D%3C/style%3E%0A%20%20%20%20%0A%20%20%20%20%3Cmeta%20name%3D%22viewport%22%20content%3D%22width%3Ddevice-width%2C%0A%20%20%20%20%20%20%20%20initial-scale%3D1.0%2C%20maximum-scale%3D1.0%2C%20user-scalable%3Dno%22%20/%3E%0A%20%20%20%20%3Cstyle%3E%23map_4eacd4b95f7c42e083d4b81c588c2298%20%7B%0A%20%20%20%20%20%20%20%20position%3A%20relative%3B%0A%20%20%20%20%20%20%20%20width%3A%20100.0%25%3B%0A%20%20%20%20%20%20%20%20height%3A%20100.0%25%3B%0A%20%20%20%20%20%20%20%20left%3A%200.0%25%3B%0A%20%20%20%20%20%20%20%20top%3A%200.0%25%3B%0A%20%20%20%20%20%20%20%20%7D%0A%20%20%20%20%3C/style%3E%0A%3C/head%3E%0A%3Cbody%3E%20%20%20%20%0A%20%20%20%20%0A%20%20%20%20%3Cdiv%20class%3D%22folium-map%22%20id%3D%22map_4eacd4b95f7c42e083d4b81c588c2298%22%20%3E%3C/div%3E%0A%3C/body%3E%0A%3Cscript%3E%20%20%20%20%0A%20%20%20%20%0A%20%20%20%20%0A%20%20%20%20%20%20%20%20var%20bounds%20%3D%20null%3B%0A%20%20%20%20%0A%0A%20%20%20%20var%20map_4eacd4b95f7c42e083d4b81c588c2298%20%3D%20L.map%28%0A%20%20%20%20%20%20%20%20%27map_4eacd4b95f7c42e083d4b81c588c2298%27%2C%20%7B%0A%20%20%20%20%20%20%20%20center%3A%20%5B33.42%2C%20-111.935%5D%2C%0A%20%20%20%20%20%20%20%20zoom%3A%2015%2C%0A%20%20%20%20%20%20%20%20maxBounds%3A%20bounds%2C%0A%20%20%20%20%20%20%20%20layers%3A%20%5B%5D%2C%0A%20%20%20%20%20%20%20%20worldCopyJump%3A%20false%2C%0A%20%20%20%20%20%20%20%20crs%3A%20L.CRS.EPSG3857%2C%0A%20%20%20%20%20%20%20%20zoomControl%3A%20true%2C%0A%20%20%20%20%20%20%20%20%7D%29%3B%0A%0A%0A%20%20%20%20%0A%20%20%20%20var%20tile_layer_b02fef87835a4b6abc69f156d93973bd%20%3D%20L.tileLayer%28%0A%20%20%20%20%20%20%20%20%27https%3A//stamen-tiles-%7Bs%7D.a.ssl.fastly.net/toner/%7Bz%7D/%7Bx%7D/%7By%7D.png%27%2C%0A%20%20%20%20%20%20%20%20%7B%0A%20%20%20%20%20%20%20%20%22attribution%22%3A%20null%2C%0A%20%20%20%20%20%20%20%20%22detectRetina%22%3A%20false%2C%0A%20%20%20%20%20%20%20%20%22maxNativeZoom%22%3A%2018%2C%0A%20%20%20%20%20%20%20%20%22maxZoom%22%3A%2018%2C%0A%20%20%20%20%20%20%20%20%22minZoom%22%3A%200%2C%0A%20%20%20%20%20%20%20%20%22noWrap%22%3A%20false%2C%0A%20%20%20%20%20%20%20%20%22opacity%22%3A%201%2C%0A%20%20%20%20%20%20%20%20%22subdomains%22%3A%20%22abc%22%2C%0A%20%20%20%20%20%20%20%20%22tms%22%3A%20false%0A%7D%29.addTo%28map_4eacd4b95f7c42e083d4b81c588c2298%29%3B%0A%20%20%20%20%0A%20%20%20%20%20%20%20%20var%20marker_4da1d6248d42410b8d496ad05beb70d0%20%3D%20L.marker%28%0A%20%20%20%20%20%20%20%20%20%20%20%20%5B33.42451785%2C%20-111.93100893444532%5D%2C%0A%20%20%20%20%20%20%20%20%20%20%20%20%7B%0A%20%20%20%20%20%20%20%20%20%20%20%20%20%20%20%20icon%3A%20new%20L.Icon.Default%28%29%2C%0A%20%20%20%20%20%20%20%20%20%20%20%20%20%20%20%20%7D%0A%20%20%20%20%20%20%20%20%20%20%20%20%29.addTo%28map_4eacd4b95f7c42e083d4b81c588c2298%29%3B%0A%20%20%20%20%20%20%20%20%0A%20%20%20%20%0A%20%20%20%20%20%20%20%20%20%20%20%20var%20popup_7d4d4edcf6e8496f8716598cb221070b%20%3D%20L.popup%28%7BmaxWidth%3A%20%27100%25%27%0A%20%20%20%20%20%20%20%20%20%20%20%20%0A%20%20%20%20%20%20%20%20%20%20%20%20%7D%29%3B%0A%0A%20%20%20%20%20%20%20%20%20%20%20%20%0A%20%20%20%20%20%20%20%20%20%20%20%20%20%20%20%20var%20html_fef78f32f6f544e3950e6db9489d2e98%20%3D%20%24%28%60%3Cdiv%20id%3D%22html_fef78f32f6f544e3950e6db9489d2e98%22%20style%3D%22width%3A%20100.0%25%3B%20height%3A%20100.0%25%3B%22%3E%3Ci%3EArena%3C/i%3E%3C/div%3E%60%29%5B0%5D%3B%0A%20%20%20%20%20%20%20%20%20%20%20%20%20%20%20%20popup_7d4d4edcf6e8496f8716598cb221070b.setContent%28html_fef78f32f6f544e3950e6db9489d2e98%29%3B%0A%20%20%20%20%20%20%20%20%20%20%20%20%0A%0A%20%20%20%20%20%20%20%20%20%20%20%20marker_4da1d6248d42410b8d496ad05beb70d0.bindPopup%28popup_7d4d4edcf6e8496f8716598cb221070b%29%0A%20%20%20%20%20%20%20%20%20%20%20%20%3B%0A%0A%20%20%20%20%20%20%20%20%20%20%20%20%0A%20%20%20%20%20%20%20%20%0A%20%20%20%20%0A%20%20%20%20%20%20%20%20var%20marker_b990d72fd9434ca6887bc01f24fdd21a%20%3D%20L.marker%28%0A%20%20%20%20%20%20%20%20%20%20%20%20%5B33.4176322%2C%20-111.94413595%5D%2C%0A%20%20%20%20%20%20%20%20%20%20%20%20%7B%0A%20%20%20%20%20%20%20%20%20%20%20%20%20%20%20%20icon%3A%20new%20L.Icon.Default%28%29%2C%0A%20%20%20%20%20%20%20%20%20%20%20%20%20%20%20%20%7D%0A%20%20%20%20%20%20%20%20%20%20%20%20%29.addTo%28map_4eacd4b95f7c42e083d4b81c588c2298%29%3B%0A%20%20%20%20%20%20%20%20%0A%20%20%20%20%0A%20%20%20%20%20%20%20%20%20%20%20%20var%20popup_8ddbbae932a54fedabe202fb2aaf4712%20%3D%20L.popup%28%7BmaxWidth%3A%20%27100%25%27%0A%20%20%20%20%20%20%20%20%20%20%20%20%0A%20%20%20%20%20%20%20%20%20%20%20%20%7D%29%3B%0A%0A%20%20%20%20%20%20%20%20%20%20%20%20%0A%20%20%20%20%20%20%20%20%20%20%20%20%20%20%20%20var%20html_32b29780c59d40bf8342ce480c8713f1%20%3D%20%24%28%60%3Cdiv%20id%3D%22html_32b29780c59d40bf8342ce480c8713f1%22%20style%3D%22width%3A%20100.0%25%3B%20height%3A%20100.0%25%3B%22%3E%3Ci%3EHome%3C/i%3E%3C/div%3E%60%29%5B0%5D%3B%0A%20%20%20%20%20%20%20%20%20%20%20%20%20%20%20%20popup_8ddbbae932a54fedabe202fb2aaf4712.setContent%28html_32b29780c59d40bf8342ce480c8713f1%29%3B%0A%20%20%20%20%20%20%20%20%20%20%20%20%0A%0A%20%20%20%20%20%20%20%20%20%20%20%20marker_b990d72fd9434ca6887bc01f24fdd21a.bindPopup%28popup_8ddbbae932a54fedabe202fb2aaf4712%29%0A%20%20%20%20%20%20%20%20%20%20%20%20%3B%0A%0A%20%20%20%20%20%20%20%20%20%20%20%20%0A%20%20%20%20%20%20%20%20%0A%3C/script%3E onload=\"this.contentDocument.open();this.contentDocument.write(    decodeURIComponent(this.getAttribute('data-html')));this.contentDocument.close();\" allowfullscreen webkitallowfullscreen mozallowfullscreen></iframe></div></div>"
            ],
            "text/plain": [
              "<folium.folium.Map at 0x7f8873069a50>"
            ]
          },
          "metadata": {
            "tags": []
          }
        }
      ]
    },
    {
      "cell_type": "code",
      "metadata": {
        "id": "TFNDkboKk8l3"
      },
      "source": [
        ""
      ],
      "execution_count": 6,
      "outputs": []
    }
  ]
}