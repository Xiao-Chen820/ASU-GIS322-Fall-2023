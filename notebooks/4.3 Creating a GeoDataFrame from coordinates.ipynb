{
 "cells": [
  {
   "cell_type": "markdown",
   "metadata": {},
   "source": [
    "# 4.3 Creating a GeoDataFrame from  coordinates\n",
    "\n",
    "\n",
    "\n",
    "\n",
    "\n",
    "<br></br>\n",
    "<font size=\"3\">In this notebook, you will learn how to create a GeoDataFrame from a list of coordinates in python using `geopandas` library.</font>\n",
    "\n",
    "\n",
    "\n",
    "\n"
   ]
  },
  {
   "cell_type": "markdown",
   "metadata": {},
   "source": [
    "<p>First of all, lets find some interesting places on ASU campus. Here is a list of mine. Each place is linked with a pair of coordinates: latitude and longitude.&nbsp;</p>\n",
    "<table style=\"border-collapse: collapse; width: 75.51282051282051%; height: 211px;\" border=\"1\">\n",
    "<tbody>\n",
    "<tr style=\"height: 24px;\">\n",
    "<td style=\"width: 33.333333333333336%; height: 24px;\">Cities</td>\n",
    "<td style=\"width: 33.333333333333336%; height: 24px;\">Latitude</td>\n",
    "<td style=\"width: 33.333333333333336%; height: 24px;\">Longitude</td>\n",
    "</tr>\n",
    "<tr style=\"height: 24px;\">\n",
    "<td style=\"width: 33.333333333333336%; height: 24px;\">New York</td>\n",
    "<td style=\"width: 33.333333333333336%; height: 24px;\"><span>40.7128</span></td>\n",
    "<td style=\"width: 33.333333333333336%; height: 24px;\"><span>-74.0060</span></td>\n",
    "</tr>\n",
    "<tr style=\"height: 24px;\">\n",
    "<td style=\"width: 33.333333333333336%; height: 24px;\">Dallas</td>\n",
    "<td style=\"width: 33.333333333333336%; height: 24px;\"><span>32.7767</span></td>\n",
    "<td style=\"width: 33.333333333333336%; height: 24px;\"><span>-96.7970</span></td>\n",
    "</tr>\n",
    "<tr style=\"height: 24px;\">\n",
    "<td style=\"width: 33.333333333333336%; height: 24px;\">Seattle</td>\n",
    "<td style=\"width: 33.333333333333336%; height: 24px;\"><span>47.6062</span></td>\n",
    "<td style=\"width: 33.333333333333336%; height: 24px;\"><span>-122.3321</span></td>\n",
    "</tr>\n",
    "<tr style=\"height: 24px;\">\n",
    "<td style=\"width: 33.333333333333336%; height: 24px;\">Phoenix</td>\n",
    "<td style=\"width: 33.333333333333336%; height: 24px;\"><span>33.4484</span></td>\n",
    "<td style=\"width: 33.333333333333336%; height: 24px;\"><span>-112.0740</span></td>\n",
    "</tr>\n",
    "</tbody>\n",
    "</table>"
   ]
  },
  {
   "cell_type": "markdown",
   "metadata": {},
   "source": [
    "<br></br>\n",
    "<font size=\"3\">Then let's try to make a DataFrame from the list of places we have </font>"
   ]
  },
  {
   "cell_type": "code",
   "execution_count": 1,
   "metadata": {},
   "outputs": [],
   "source": [
    "cities = [['New York', 40.7128, -74.0060], \n",
    "          ['Dallas', 32.7767, -96.7970],\n",
    "          ['Seattle', 47.6062, -122.3321],\n",
    "          ['Phoenix', 33.4484, -112.0740]] "
   ]
  },
  {
   "cell_type": "code",
   "execution_count": 2,
   "metadata": {},
   "outputs": [
    {
     "data": {
      "text/plain": [
       "[['New York', 40.7128, -74.006],\n",
       " ['Dallas', 32.7767, -96.797],\n",
       " ['Seattle', 47.6062, -122.3321],\n",
       " ['Phoenix', 33.4484, -112.074]]"
      ]
     },
     "execution_count": 2,
     "metadata": {},
     "output_type": "execute_result"
    }
   ],
   "source": [
    "cities"
   ]
  },
  {
   "cell_type": "code",
   "execution_count": 3,
   "metadata": {},
   "outputs": [],
   "source": [
    "import pandas as pd\n",
    "cities_df = pd.DataFrame(cities, columns = ['Cities', 'Lat','Long']) "
   ]
  },
  {
   "cell_type": "code",
   "execution_count": 4,
   "metadata": {},
   "outputs": [
    {
     "data": {
      "text/html": [
       "<div>\n",
       "<style scoped>\n",
       "    .dataframe tbody tr th:only-of-type {\n",
       "        vertical-align: middle;\n",
       "    }\n",
       "\n",
       "    .dataframe tbody tr th {\n",
       "        vertical-align: top;\n",
       "    }\n",
       "\n",
       "    .dataframe thead th {\n",
       "        text-align: right;\n",
       "    }\n",
       "</style>\n",
       "<table border=\"1\" class=\"dataframe\">\n",
       "  <thead>\n",
       "    <tr style=\"text-align: right;\">\n",
       "      <th></th>\n",
       "      <th>Cities</th>\n",
       "      <th>Lat</th>\n",
       "      <th>Long</th>\n",
       "    </tr>\n",
       "  </thead>\n",
       "  <tbody>\n",
       "    <tr>\n",
       "      <th>0</th>\n",
       "      <td>New York</td>\n",
       "      <td>40.7128</td>\n",
       "      <td>-74.0060</td>\n",
       "    </tr>\n",
       "    <tr>\n",
       "      <th>1</th>\n",
       "      <td>Dallas</td>\n",
       "      <td>32.7767</td>\n",
       "      <td>-96.7970</td>\n",
       "    </tr>\n",
       "    <tr>\n",
       "      <th>2</th>\n",
       "      <td>Seattle</td>\n",
       "      <td>47.6062</td>\n",
       "      <td>-122.3321</td>\n",
       "    </tr>\n",
       "    <tr>\n",
       "      <th>3</th>\n",
       "      <td>Phoenix</td>\n",
       "      <td>33.4484</td>\n",
       "      <td>-112.0740</td>\n",
       "    </tr>\n",
       "  </tbody>\n",
       "</table>\n",
       "</div>"
      ],
      "text/plain": [
       "     Cities      Lat      Long\n",
       "0  New York  40.7128  -74.0060\n",
       "1    Dallas  32.7767  -96.7970\n",
       "2   Seattle  47.6062 -122.3321\n",
       "3   Phoenix  33.4484 -112.0740"
      ]
     },
     "execution_count": 4,
     "metadata": {},
     "output_type": "execute_result"
    }
   ],
   "source": [
    "cities_df"
   ]
  },
  {
   "cell_type": "markdown",
   "metadata": {},
   "source": [
    "<font size=\"3\">After that, we can use the method provided in geopandas `geopandas.points_from_xy(longitude, latitude)` to convert an ordinary `DataFrame` to `GeoDataFrame`</font>"
   ]
  },
  {
   "cell_type": "code",
   "execution_count": 5,
   "metadata": {},
   "outputs": [],
   "source": [
    "import geopandas as gpd\n",
    "cities_gdf = gpd.GeoDataFrame(\n",
    "    cities_df, geometry=gpd.points_from_xy(cities_df.Long, cities_df.Lat))"
   ]
  },
  {
   "cell_type": "markdown",
   "metadata": {},
   "source": [
    "<br></br>\n",
    "<font size=\"3\">Plot it to see if it looks right</font>"
   ]
  },
  {
   "cell_type": "code",
   "execution_count": 6,
   "metadata": {},
   "outputs": [
    {
     "data": {
      "text/plain": [
       "<matplotlib.axes._subplots.AxesSubplot at 0x11b377eb8>"
      ]
     },
     "execution_count": 6,
     "metadata": {},
     "output_type": "execute_result"
    }
   ],
   "source": [
    "cities_gdf.plot()"
   ]
  },
  {
   "cell_type": "markdown",
   "metadata": {},
   "source": [
    "<br></br>\n",
    "<font size=\"3\">For better to look at it, we need a basemap, let's read in the US map we have made in the Module 4.1.</font>"
   ]
  },
  {
   "cell_type": "code",
   "execution_count": 7,
   "metadata": {},
   "outputs": [],
   "source": [
    "%matplotlib inline"
   ]
  },
  {
   "cell_type": "code",
   "execution_count": 8,
   "metadata": {},
   "outputs": [],
   "source": [
    "contig = gpd.read_file(\"../Data/US_contig/contig.shp\")"
   ]
  },
  {
   "cell_type": "code",
   "execution_count": 9,
   "metadata": {},
   "outputs": [
    {
     "data": {
      "text/plain": [
       "<matplotlib.axes._subplots.AxesSubplot at 0x11b5ae550>"
      ]
     },
     "execution_count": 9,
     "metadata": {},
     "output_type": "execute_result"
    },
    {
     "data": {
      "image/png": "[encoded data removed]",
      "text/plain": [
       "<Figure size 432x288 with 1 Axes>"
      ]
     },
     "metadata": {},
     "output_type": "display_data"
    }
   ],
   "source": [
    "contig.plot()"
   ]
  },
  {
   "cell_type": "markdown",
   "metadata": {},
   "source": [
    "<br></br>\n",
    "<font size=\"3\">Overlay both together, it seems alright!</font>"
   ]
  },
  {
   "cell_type": "code",
   "execution_count": 10,
   "metadata": {},
   "outputs": [
    {
     "data": {
      "text/plain": [
       "<matplotlib.axes._subplots.AxesSubplot at 0x11b5cc7b8>"
      ]
     },
     "execution_count": 10,
     "metadata": {},
     "output_type": "execute_result"
    },
    {
     "data": {
      "image/png": "[encoded data removed]",
      "text/plain": [
       "<Figure size 720x720 with 1 Axes>"
      ]
     },
     "metadata": {},
     "output_type": "display_data"
    }
   ],
   "source": [
    "import matplotlib.pyplot as plt\n",
    "fig, ax = plt.subplots(1, 1,figsize=(10,10))\n",
    "contig.plot(ax=ax)\n",
    "cities_gdf.plot(ax=ax,color=\"red\")"
   ]
  },
  {
   "cell_type": "code",
   "execution_count": null,
   "metadata": {},
   "outputs": [],
   "source": []
  }
 ],
 "metadata": {
  "kernelspec": {
   "display_name": "Python [conda root]",
   "language": "python",
   "name": "conda-root-py"
  },
  "language_info": {
   "codemirror_mode": {
    "name": "ipython",
    "version": 3
   },
   "file_extension": ".py",
   "mimetype": "text/x-python",
   "name": "python",
   "nbconvert_exporter": "python",
   "pygments_lexer": "ipython3",
   "version": "3.5.4"
  }
 },
 "nbformat": 4,
 "nbformat_minor": 2
}
