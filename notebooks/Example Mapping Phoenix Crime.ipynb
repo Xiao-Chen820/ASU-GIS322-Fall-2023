{
 "cells": [
  {
   "cell_type": "markdown",
   "metadata": {},
   "source": [
    "# Phoenix Crime Data Mapping at Zip-code Level\n",
    "Now we have learned two modules and are able to perform some analysis based on real-world dataset! In this exericse, we will be analyzing crime data obtained from City of Phoenix with the help of several packages:   `pandas`, `geopandas`, and `matplotlib`. \n",
    "\n",
    "Learning objectives are:\n",
    "\n",
    "* Retrieve (download) data from a public weibsite\n",
    "* Read CSV and shapefile using `pandas` and `geopandas`\n",
    "* Data cleaning\n",
    "* Recap on how to convert Lat-Long to GeoDataFrame using `geopandas`'s `points_from_xy` method\n",
    "* Understand the use of `group_by`, `merge` in `pandas`\n",
    "* Create basic map using `geopandas` and `matplotlib`\n",
    "\n",
    "\n",
    "Detailed steps are as follows:\n",
    "* Download open crime data from city website (https://www.phoenixopendata.com/dataset/crime-data)\n",
    "* Query all the crimes happened in 2018\n",
    "* Group crimes by zip code \n",
    "* Join grouped crimes in 2018 to zipcode shapefile based on zipcode value\n",
    "* Make a zip-code level crime map\n",
    "* Export map to image (.png) format"
   ]
  },
  {
   "cell_type": "markdown",
   "metadata": {},
   "source": [
    "### 1. Importing necessary packages"
   ]
  },
  {
   "cell_type": "code",
   "execution_count": 1,
   "metadata": {},
   "outputs": [],
   "source": [
    "import pandas as pd\n",
    "import geopandas as gpd\n",
    "import matplotlib.pyplot as plt"
   ]
  },
  {
   "cell_type": "markdown",
   "metadata": {},
   "source": [
    "### 2. Make sure you allow notebook to display your matplotlib plots. "
   ]
  },
  {
   "cell_type": "code",
   "execution_count": 2,
   "metadata": {},
   "outputs": [],
   "source": [
    "%matplotlib inline"
   ]
  },
  {
   "cell_type": "markdown",
   "metadata": {},
   "source": [
    "### 3. Read-in your three files: \n",
    "* A boundary shapefile (**az_zipcodes.shp**) of Phoex Zipcodes which contains polygon for each zipcode.\n",
    "* A table (**phx_crimes.csv**) file containing a list of recent crime incidents. Each incident is geo-coded with longitude and latitude.\n",
    "* A point shapefile (**AZ_cities_coords.shp**) containing a list of PHX cities, for reference."
   ]
  },
  {
   "cell_type": "code",
   "execution_count": 3,
   "metadata": {},
   "outputs": [
    {
     "name": "stderr",
     "output_type": "stream",
     "text": [
      "/Users/Ziqi/anaconda/lib/python3.5/site-packages/IPython/core/interactiveshell.py:2728: DtypeWarning: Columns (0) have mixed types. Specify dtype option on import or set low_memory=False.\n",
      "  interactivity=interactivity, compiler=compiler, result=result)\n"
     ]
    }
   ],
   "source": [
    "az_zip_shp = gpd.read_file(\"../data/AZ_zipcodes/az_zipcodes.shp\")\n",
    "phx_crimes = pd.read_csv(\"../data/phx_crimes.csv\")\n",
    "phx_cities_df = pd.read_csv(\"../data/AZ_cities_coords.csv\")"
   ]
  },
  {
   "cell_type": "markdown",
   "metadata": {},
   "source": [
    "### 4. After reading them, first of all, let's check if our files are read properly (in case of broken/badly formatted files)\n",
    "* `.head()` method will display the first 5 rows of a given dataframe"
   ]
  },
  {
   "cell_type": "code",
   "execution_count": 4,
   "metadata": {},
   "outputs": [
    {
     "data": {
      "text/html": [
       "<div>\n",
       "<style scoped>\n",
       "    .dataframe tbody tr th:only-of-type {\n",
       "        vertical-align: middle;\n",
       "    }\n",
       "\n",
       "    .dataframe tbody tr th {\n",
       "        vertical-align: top;\n",
       "    }\n",
       "\n",
       "    .dataframe thead th {\n",
       "        text-align: right;\n",
       "    }\n",
       "</style>\n",
       "<table border=\"1\" class=\"dataframe\">\n",
       "  <thead>\n",
       "    <tr style=\"text-align: right;\">\n",
       "      <th></th>\n",
       "      <th>ZCTA5CE10</th>\n",
       "      <th>GEOID10</th>\n",
       "      <th>CLASSFP10</th>\n",
       "      <th>MTFCC10</th>\n",
       "      <th>FUNCSTAT10</th>\n",
       "      <th>ALAND10</th>\n",
       "      <th>AWATER10</th>\n",
       "      <th>INTPTLAT10</th>\n",
       "      <th>INTPTLON10</th>\n",
       "      <th>Zipcode</th>\n",
       "      <th>geometry</th>\n",
       "    </tr>\n",
       "  </thead>\n",
       "  <tbody>\n",
       "    <tr>\n",
       "      <th>0</th>\n",
       "      <td>85019</td>\n",
       "      <td>85019</td>\n",
       "      <td>B5</td>\n",
       "      <td>G6350</td>\n",
       "      <td>S</td>\n",
       "      <td>9713482</td>\n",
       "      <td>16770</td>\n",
       "      <td>+33.5088785</td>\n",
       "      <td>-112.1445137</td>\n",
       "      <td>85019</td>\n",
       "      <td>POLYGON ((-112.151539 33.514318, -112.151532 3...</td>\n",
       "    </tr>\n",
       "    <tr>\n",
       "      <th>1</th>\n",
       "      <td>85020</td>\n",
       "      <td>85020</td>\n",
       "      <td>B5</td>\n",
       "      <td>G6350</td>\n",
       "      <td>S</td>\n",
       "      <td>23027500</td>\n",
       "      <td>65264</td>\n",
       "      <td>+33.5673508</td>\n",
       "      <td>-112.0535909</td>\n",
       "      <td>85020</td>\n",
       "      <td>POLYGON ((-112.039193 33.593917, -112.039039 3...</td>\n",
       "    </tr>\n",
       "    <tr>\n",
       "      <th>2</th>\n",
       "      <td>85021</td>\n",
       "      <td>85021</td>\n",
       "      <td>B5</td>\n",
       "      <td>G6350</td>\n",
       "      <td>S</td>\n",
       "      <td>17419881</td>\n",
       "      <td>74879</td>\n",
       "      <td>+33.5594209</td>\n",
       "      <td>-112.0928747</td>\n",
       "      <td>85021</td>\n",
       "      <td>POLYGON ((-112.115694 33.562326, -112.116087 3...</td>\n",
       "    </tr>\n",
       "    <tr>\n",
       "      <th>3</th>\n",
       "      <td>85022</td>\n",
       "      <td>85022</td>\n",
       "      <td>B5</td>\n",
       "      <td>G6350</td>\n",
       "      <td>S</td>\n",
       "      <td>24230483</td>\n",
       "      <td>4009</td>\n",
       "      <td>+33.6272400</td>\n",
       "      <td>-112.0484143</td>\n",
       "      <td>85022</td>\n",
       "      <td>POLYGON ((-112.074157 33.647498, -112.074156 3...</td>\n",
       "    </tr>\n",
       "    <tr>\n",
       "      <th>4</th>\n",
       "      <td>85023</td>\n",
       "      <td>85023</td>\n",
       "      <td>B5</td>\n",
       "      <td>G6350</td>\n",
       "      <td>S</td>\n",
       "      <td>18927812</td>\n",
       "      <td>18972</td>\n",
       "      <td>+33.6341180</td>\n",
       "      <td>-112.0931632</td>\n",
       "      <td>85023</td>\n",
       "      <td>POLYGON ((-112.115183 33.643805, -112.115006 3...</td>\n",
       "    </tr>\n",
       "  </tbody>\n",
       "</table>\n",
       "</div>"
      ],
      "text/plain": [
       "  ZCTA5CE10 GEOID10 CLASSFP10 MTFCC10 FUNCSTAT10   ALAND10  AWATER10  \\\n",
       "0     85019   85019        B5   G6350          S   9713482     16770   \n",
       "1     85020   85020        B5   G6350          S  23027500     65264   \n",
       "2     85021   85021        B5   G6350          S  17419881     74879   \n",
       "3     85022   85022        B5   G6350          S  24230483      4009   \n",
       "4     85023   85023        B5   G6350          S  18927812     18972   \n",
       "\n",
       "    INTPTLAT10    INTPTLON10  Zipcode  \\\n",
       "0  +33.5088785  -112.1445137    85019   \n",
       "1  +33.5673508  -112.0535909    85020   \n",
       "2  +33.5594209  -112.0928747    85021   \n",
       "3  +33.6272400  -112.0484143    85022   \n",
       "4  +33.6341180  -112.0931632    85023   \n",
       "\n",
       "                                            geometry  \n",
       "0  POLYGON ((-112.151539 33.514318, -112.151532 3...  \n",
       "1  POLYGON ((-112.039193 33.593917, -112.039039 3...  \n",
       "2  POLYGON ((-112.115694 33.562326, -112.116087 3...  \n",
       "3  POLYGON ((-112.074157 33.647498, -112.074156 3...  \n",
       "4  POLYGON ((-112.115183 33.643805, -112.115006 3...  "
      ]
     },
     "execution_count": 4,
     "metadata": {},
     "output_type": "execute_result"
    }
   ],
   "source": [
    "az_zip_shp.head() #Zipcode boundary shapefile"
   ]
  },
  {
   "cell_type": "code",
   "execution_count": 5,
   "metadata": {},
   "outputs": [
    {
     "data": {
      "text/plain": [
       "<matplotlib.axes._subplots.AxesSubplot at 0x12087d630>"
      ]
     },
     "execution_count": 5,
     "metadata": {},
     "output_type": "execute_result"
    },
    {
     "data": {
      "image/png": "[encoded data removed]",
      "text/plain": [
       "<Figure size 432x288 with 1 Axes>"
      ]
     },
     "metadata": {},
     "output_type": "display_data"
    }
   ],
   "source": [
    "az_zip_shp.plot() # a quick plot to look at those zip-code polygons"
   ]
  },
  {
   "cell_type": "code",
   "execution_count": 6,
   "metadata": {},
   "outputs": [
    {
     "data": {
      "text/html": [
       "<div>\n",
       "<style scoped>\n",
       "    .dataframe tbody tr th:only-of-type {\n",
       "        vertical-align: middle;\n",
       "    }\n",
       "\n",
       "    .dataframe tbody tr th {\n",
       "        vertical-align: top;\n",
       "    }\n",
       "\n",
       "    .dataframe thead th {\n",
       "        text-align: right;\n",
       "    }\n",
       "</style>\n",
       "<table border=\"1\" class=\"dataframe\">\n",
       "  <thead>\n",
       "    <tr style=\"text-align: right;\">\n",
       "      <th></th>\n",
       "      <th>StateAbbr</th>\n",
       "      <th>PlaceName</th>\n",
       "      <th>PlaceFIPS</th>\n",
       "      <th>lat</th>\n",
       "      <th>long</th>\n",
       "    </tr>\n",
       "  </thead>\n",
       "  <tbody>\n",
       "    <tr>\n",
       "      <th>0</th>\n",
       "      <td>AZ</td>\n",
       "      <td>Gilbert</td>\n",
       "      <td>427400</td>\n",
       "      <td>33.310149</td>\n",
       "      <td>-111.746238</td>\n",
       "    </tr>\n",
       "    <tr>\n",
       "      <th>1</th>\n",
       "      <td>AZ</td>\n",
       "      <td>Chandler</td>\n",
       "      <td>412000</td>\n",
       "      <td>33.283190</td>\n",
       "      <td>-111.852210</td>\n",
       "    </tr>\n",
       "    <tr>\n",
       "      <th>2</th>\n",
       "      <td>AZ</td>\n",
       "      <td>Mesa</td>\n",
       "      <td>446000</td>\n",
       "      <td>33.402284</td>\n",
       "      <td>-111.718721</td>\n",
       "    </tr>\n",
       "    <tr>\n",
       "      <th>3</th>\n",
       "      <td>AZ</td>\n",
       "      <td>Avondale</td>\n",
       "      <td>404720</td>\n",
       "      <td>33.385837</td>\n",
       "      <td>-112.323627</td>\n",
       "    </tr>\n",
       "    <tr>\n",
       "      <th>4</th>\n",
       "      <td>AZ</td>\n",
       "      <td>Peoria</td>\n",
       "      <td>454050</td>\n",
       "      <td>33.582178</td>\n",
       "      <td>-112.236465</td>\n",
       "    </tr>\n",
       "  </tbody>\n",
       "</table>\n",
       "</div>"
      ],
      "text/plain": [
       "  StateAbbr PlaceName  PlaceFIPS        lat        long\n",
       "0        AZ   Gilbert     427400  33.310149 -111.746238\n",
       "1        AZ  Chandler     412000  33.283190 -111.852210\n",
       "2        AZ      Mesa     446000  33.402284 -111.718721\n",
       "3        AZ  Avondale     404720  33.385837 -112.323627\n",
       "4        AZ    Peoria     454050  33.582178 -112.236465"
      ]
     },
     "execution_count": 6,
     "metadata": {},
     "output_type": "execute_result"
    }
   ],
   "source": [
    "phx_cities_df.head() #City locations"
   ]
  },
  {
   "cell_type": "code",
   "execution_count": 7,
   "metadata": {},
   "outputs": [
    {
     "data": {
      "text/html": [
       "<div>\n",
       "<style scoped>\n",
       "    .dataframe tbody tr th:only-of-type {\n",
       "        vertical-align: middle;\n",
       "    }\n",
       "\n",
       "    .dataframe tbody tr th {\n",
       "        vertical-align: top;\n",
       "    }\n",
       "\n",
       "    .dataframe thead th {\n",
       "        text-align: right;\n",
       "    }\n",
       "</style>\n",
       "<table border=\"1\" class=\"dataframe\">\n",
       "  <thead>\n",
       "    <tr style=\"text-align: right;\">\n",
       "      <th></th>\n",
       "      <th>INC NUMBER</th>\n",
       "      <th>OCCURRED ON</th>\n",
       "      <th>OCCURRED TO</th>\n",
       "      <th>UCR CRIME CATEGORY</th>\n",
       "      <th>100 BLOCK ADDR</th>\n",
       "      <th>ZIP</th>\n",
       "      <th>PREMISE TYPE</th>\n",
       "    </tr>\n",
       "  </thead>\n",
       "  <tbody>\n",
       "    <tr>\n",
       "      <th>0</th>\n",
       "      <td>201600000052855</td>\n",
       "      <td>11/01/2015  00:00</td>\n",
       "      <td>01/09/2016  00:00</td>\n",
       "      <td>MOTOR VEHICLE THEFT</td>\n",
       "      <td>N 43RD AVE &amp; W CACTUS RD</td>\n",
       "      <td>85029.0</td>\n",
       "      <td>SINGLE FAMILY HOUSE</td>\n",
       "    </tr>\n",
       "    <tr>\n",
       "      <th>1</th>\n",
       "      <td>201600000594484</td>\n",
       "      <td>11/01/2015  00:00</td>\n",
       "      <td>NaN</td>\n",
       "      <td>RAPE</td>\n",
       "      <td>13XX E ALMERIA RD</td>\n",
       "      <td>85006.0</td>\n",
       "      <td>SINGLE FAMILY HOUSE</td>\n",
       "    </tr>\n",
       "    <tr>\n",
       "      <th>2</th>\n",
       "      <td>201500002102327</td>\n",
       "      <td>11/01/2015  00:00</td>\n",
       "      <td>11/01/2015  09:00</td>\n",
       "      <td>LARCENY-THEFT</td>\n",
       "      <td>51XX N 15TH ST</td>\n",
       "      <td>85014.0</td>\n",
       "      <td>APARTMENT</td>\n",
       "    </tr>\n",
       "    <tr>\n",
       "      <th>3</th>\n",
       "      <td>201500002101405</td>\n",
       "      <td>11/01/2015  00:00</td>\n",
       "      <td>11/01/2015  05:00</td>\n",
       "      <td>MOTOR VEHICLE THEFT</td>\n",
       "      <td>102XX W MEDLOCK AVE</td>\n",
       "      <td>85307.0</td>\n",
       "      <td>SINGLE FAMILY HOUSE</td>\n",
       "    </tr>\n",
       "    <tr>\n",
       "      <th>4</th>\n",
       "      <td>201500002102668</td>\n",
       "      <td>11/01/2015  00:00</td>\n",
       "      <td>11/01/2015  11:50</td>\n",
       "      <td>MOTOR VEHICLE THEFT</td>\n",
       "      <td>69XX W WOOD ST</td>\n",
       "      <td>85043.0</td>\n",
       "      <td>SINGLE FAMILY HOUSE</td>\n",
       "    </tr>\n",
       "  </tbody>\n",
       "</table>\n",
       "</div>"
      ],
      "text/plain": [
       "        INC NUMBER        OCCURRED ON        OCCURRED TO   UCR CRIME CATEGORY  \\\n",
       "0  201600000052855  11/01/2015  00:00  01/09/2016  00:00  MOTOR VEHICLE THEFT   \n",
       "1  201600000594484  11/01/2015  00:00                NaN                 RAPE   \n",
       "2  201500002102327  11/01/2015  00:00  11/01/2015  09:00        LARCENY-THEFT   \n",
       "3  201500002101405  11/01/2015  00:00  11/01/2015  05:00  MOTOR VEHICLE THEFT   \n",
       "4  201500002102668  11/01/2015  00:00  11/01/2015  11:50  MOTOR VEHICLE THEFT   \n",
       "\n",
       "             100 BLOCK ADDR      ZIP         PREMISE TYPE  \n",
       "0  N 43RD AVE & W CACTUS RD  85029.0  SINGLE FAMILY HOUSE  \n",
       "1         13XX E ALMERIA RD  85006.0  SINGLE FAMILY HOUSE  \n",
       "2            51XX N 15TH ST  85014.0            APARTMENT  \n",
       "3       102XX W MEDLOCK AVE  85307.0  SINGLE FAMILY HOUSE  \n",
       "4            69XX W WOOD ST  85043.0  SINGLE FAMILY HOUSE  "
      ]
     },
     "execution_count": 7,
     "metadata": {},
     "output_type": "execute_result"
    }
   ],
   "source": [
    "phx_crimes.head() #Crime incidents"
   ]
  },
  {
   "cell_type": "markdown",
   "metadata": {},
   "source": [
    "### 6. By looking at the header of the crime table, we find that the timestamp is formatted as month/day/year time in a single string. \n",
    "\n",
    "For example, the first crime incident is occured on \"11/01/2015 00:00\". Is that possible to extract only the year out of this using some string functions? Of course we can!"
   ]
  },
  {
   "cell_type": "code",
   "execution_count": 8,
   "metadata": {},
   "outputs": [],
   "source": [
    "phx_crimes['Year'] = phx_crimes['OCCURRED ON'].str.slice(start=6, \n",
    "                                                         stop=10, \n",
    "                                                         step=1)"
   ]
  },
  {
   "cell_type": "markdown",
   "metadata": {},
   "source": [
    "### 7. We can create a new column named \"Year\" and using the string sclicing functionality to subset the string from the 6th char to the 10th char, which gives as the year."
   ]
  },
  {
   "cell_type": "code",
   "execution_count": 9,
   "metadata": {},
   "outputs": [
    {
     "data": {
      "text/plain": [
       "0    2015\n",
       "1    2015\n",
       "2    2015\n",
       "3    2015\n",
       "4    2015\n",
       "Name: Year, dtype: object"
      ]
     },
     "execution_count": 9,
     "metadata": {},
     "output_type": "execute_result"
    }
   ],
   "source": [
    "phx_crimes['Year'].head()"
   ]
  },
  {
   "cell_type": "markdown",
   "metadata": {},
   "source": [
    "### 8. Let's explore how many incidents in each year by using the `groupby` medthod."
   ]
  },
  {
   "cell_type": "code",
   "execution_count": 10,
   "metadata": {},
   "outputs": [
    {
     "data": {
      "text/html": [
       "<div>\n",
       "<style scoped>\n",
       "    .dataframe tbody tr th:only-of-type {\n",
       "        vertical-align: middle;\n",
       "    }\n",
       "\n",
       "    .dataframe tbody tr th {\n",
       "        vertical-align: top;\n",
       "    }\n",
       "\n",
       "    .dataframe thead th {\n",
       "        text-align: right;\n",
       "    }\n",
       "</style>\n",
       "<table border=\"1\" class=\"dataframe\">\n",
       "  <thead>\n",
       "    <tr style=\"text-align: right;\">\n",
       "      <th></th>\n",
       "      <th>INC NUMBER</th>\n",
       "    </tr>\n",
       "    <tr>\n",
       "      <th>Year</th>\n",
       "      <th></th>\n",
       "    </tr>\n",
       "  </thead>\n",
       "  <tbody>\n",
       "    <tr>\n",
       "      <th>2015</th>\n",
       "      <td>10123</td>\n",
       "    </tr>\n",
       "    <tr>\n",
       "      <th>2016</th>\n",
       "      <td>63190</td>\n",
       "    </tr>\n",
       "    <tr>\n",
       "      <th>2017</th>\n",
       "      <td>66000</td>\n",
       "    </tr>\n",
       "    <tr>\n",
       "      <th>2018</th>\n",
       "      <td>64725</td>\n",
       "    </tr>\n",
       "    <tr>\n",
       "      <th>2019</th>\n",
       "      <td>37197</td>\n",
       "    </tr>\n",
       "  </tbody>\n",
       "</table>\n",
       "</div>"
      ],
      "text/plain": [
       "      INC NUMBER\n",
       "Year            \n",
       "2015       10123\n",
       "2016       63190\n",
       "2017       66000\n",
       "2018       64725\n",
       "2019       37197"
      ]
     },
     "execution_count": 10,
     "metadata": {},
     "output_type": "execute_result"
    }
   ],
   "source": [
    "phx_crimes.groupby(\"Year\").count()[[\"INC NUMBER\"]]"
   ]
  },
  {
   "cell_type": "markdown",
   "metadata": {},
   "source": [
    "### 9. It seems a lot! Since 2019 is not finished yet, the number of crimes in 2019 are less than previous years. So let's use the most recent and complete year (2018) for the subsequent analysis."
   ]
  },
  {
   "cell_type": "code",
   "execution_count": 11,
   "metadata": {},
   "outputs": [],
   "source": [
    "phx_crimes_2018 = phx_crimes[phx_crimes['Year'] == \"2018\"]"
   ]
  },
  {
   "cell_type": "markdown",
   "metadata": {},
   "source": [
    "### 10. Similar to count crimes by each year, lets do the same thing by looking at each crime category in 2018"
   ]
  },
  {
   "cell_type": "code",
   "execution_count": 12,
   "metadata": {},
   "outputs": [
    {
     "data": {
      "text/html": [
       "<div>\n",
       "<style scoped>\n",
       "    .dataframe tbody tr th:only-of-type {\n",
       "        vertical-align: middle;\n",
       "    }\n",
       "\n",
       "    .dataframe tbody tr th {\n",
       "        vertical-align: top;\n",
       "    }\n",
       "\n",
       "    .dataframe thead th {\n",
       "        text-align: right;\n",
       "    }\n",
       "</style>\n",
       "<table border=\"1\" class=\"dataframe\">\n",
       "  <thead>\n",
       "    <tr style=\"text-align: right;\">\n",
       "      <th></th>\n",
       "      <th>INC NUMBER</th>\n",
       "    </tr>\n",
       "    <tr>\n",
       "      <th>UCR CRIME CATEGORY</th>\n",
       "      <th></th>\n",
       "    </tr>\n",
       "  </thead>\n",
       "  <tbody>\n",
       "    <tr>\n",
       "      <th>AGGRAVATED ASSAULT</th>\n",
       "      <td>5378</td>\n",
       "    </tr>\n",
       "    <tr>\n",
       "      <th>ARSON</th>\n",
       "      <td>461</td>\n",
       "    </tr>\n",
       "    <tr>\n",
       "      <th>BURGLARY</th>\n",
       "      <td>9279</td>\n",
       "    </tr>\n",
       "    <tr>\n",
       "      <th>DRUG OFFENSE</th>\n",
       "      <td>5728</td>\n",
       "    </tr>\n",
       "    <tr>\n",
       "      <th>LARCENY-THEFT</th>\n",
       "      <td>33112</td>\n",
       "    </tr>\n",
       "    <tr>\n",
       "      <th>MOTOR VEHICLE THEFT</th>\n",
       "      <td>6896</td>\n",
       "    </tr>\n",
       "    <tr>\n",
       "      <th>MURDER AND NON-NEGLIGENT MANSLAUGHTER</th>\n",
       "      <td>113</td>\n",
       "    </tr>\n",
       "    <tr>\n",
       "      <th>RAPE</th>\n",
       "      <td>938</td>\n",
       "    </tr>\n",
       "    <tr>\n",
       "      <th>ROBBERY</th>\n",
       "      <td>2820</td>\n",
       "    </tr>\n",
       "  </tbody>\n",
       "</table>\n",
       "</div>"
      ],
      "text/plain": [
       "                                       INC NUMBER\n",
       "UCR CRIME CATEGORY                               \n",
       "AGGRAVATED ASSAULT                           5378\n",
       "ARSON                                         461\n",
       "BURGLARY                                     9279\n",
       "DRUG OFFENSE                                 5728\n",
       "LARCENY-THEFT                               33112\n",
       "MOTOR VEHICLE THEFT                          6896\n",
       "MURDER AND NON-NEGLIGENT MANSLAUGHTER         113\n",
       "RAPE                                          938\n",
       "ROBBERY                                      2820"
      ]
     },
     "execution_count": 12,
     "metadata": {},
     "output_type": "execute_result"
    }
   ],
   "source": [
    "phx_crimes_2018.groupby(\"UCR CRIME CATEGORY\").count()[[\"INC NUMBER\"]]"
   ]
  },
  {
   "cell_type": "markdown",
   "metadata": {},
   "source": [
    "### 11. Okay, got it! Then it comes to a very important step: lets count how many crimes in each zip-code group"
   ]
  },
  {
   "cell_type": "code",
   "execution_count": 13,
   "metadata": {},
   "outputs": [],
   "source": [
    "phx_crimes_2018_zip_counts = phx_crimes_2018.groupby(\"ZIP\",\n",
    "                                                     as_index=False).count()[[\"ZIP\",\"INC NUMBER\"]]"
   ]
  },
  {
   "cell_type": "code",
   "execution_count": 14,
   "metadata": {},
   "outputs": [
    {
     "data": {
      "text/html": [
       "<div>\n",
       "<style scoped>\n",
       "    .dataframe tbody tr th:only-of-type {\n",
       "        vertical-align: middle;\n",
       "    }\n",
       "\n",
       "    .dataframe tbody tr th {\n",
       "        vertical-align: top;\n",
       "    }\n",
       "\n",
       "    .dataframe thead th {\n",
       "        text-align: right;\n",
       "    }\n",
       "</style>\n",
       "<table border=\"1\" class=\"dataframe\">\n",
       "  <thead>\n",
       "    <tr style=\"text-align: right;\">\n",
       "      <th></th>\n",
       "      <th>ZIP</th>\n",
       "      <th>INC NUMBER</th>\n",
       "    </tr>\n",
       "  </thead>\n",
       "  <tbody>\n",
       "    <tr>\n",
       "      <th>0</th>\n",
       "      <td>85003.0</td>\n",
       "      <td>867</td>\n",
       "    </tr>\n",
       "    <tr>\n",
       "      <th>1</th>\n",
       "      <td>85004.0</td>\n",
       "      <td>814</td>\n",
       "    </tr>\n",
       "    <tr>\n",
       "      <th>2</th>\n",
       "      <td>85006.0</td>\n",
       "      <td>1398</td>\n",
       "    </tr>\n",
       "    <tr>\n",
       "      <th>3</th>\n",
       "      <td>85007.0</td>\n",
       "      <td>1184</td>\n",
       "    </tr>\n",
       "    <tr>\n",
       "      <th>4</th>\n",
       "      <td>85008.0</td>\n",
       "      <td>2932</td>\n",
       "    </tr>\n",
       "  </tbody>\n",
       "</table>\n",
       "</div>"
      ],
      "text/plain": [
       "       ZIP  INC NUMBER\n",
       "0  85003.0         867\n",
       "1  85004.0         814\n",
       "2  85006.0        1398\n",
       "3  85007.0        1184\n",
       "4  85008.0        2932"
      ]
     },
     "execution_count": 14,
     "metadata": {},
     "output_type": "execute_result"
    }
   ],
   "source": [
    "phx_crimes_2018_zip_counts.head()"
   ]
  },
  {
   "cell_type": "markdown",
   "metadata": {},
   "source": [
    "### 12. Then we can join the above table with the zip code GeoDataFrame(shapefile) and map the crime counts. But before that, let's make sure we do have the matching columns with the same data type. So two extra steps here:"
   ]
  },
  {
   "cell_type": "code",
   "execution_count": 15,
   "metadata": {},
   "outputs": [],
   "source": [
    "phx_crimes_2018_zip_counts['ZIP'] = phx_crimes_2018_zip_counts['ZIP'].astype(int)\n",
    "phx_crimes_2018_zip_counts['INC NUMBER'] = phx_crimes_2018_zip_counts['INC NUMBER'].astype(int)"
   ]
  },
  {
   "cell_type": "markdown",
   "metadata": {},
   "source": [
    "### 13. Joining by the common column \"Zipcode\" in the `az_zip_shp` and \"ZIP\" in the `phx_crimes_2018_zip_counts`"
   ]
  },
  {
   "cell_type": "code",
   "execution_count": 16,
   "metadata": {},
   "outputs": [],
   "source": [
    "merged_phx_crimes = pd.merge(az_zip_shp,phx_crimes_2018_zip_counts, \n",
    "                             left_on='Zipcode', right_on='ZIP')"
   ]
  },
  {
   "cell_type": "markdown",
   "metadata": {},
   "source": [
    "### 14. Let's see what it will look like"
   ]
  },
  {
   "cell_type": "code",
   "execution_count": 17,
   "metadata": {},
   "outputs": [
    {
     "data": {
      "text/plain": [
       "<matplotlib.axes._subplots.AxesSubplot at 0x12503b940>"
      ]
     },
     "execution_count": 17,
     "metadata": {},
     "output_type": "execute_result"
    },
    {
     "data": {
      "image/png": "[encoded data removed]",
      "text/plain": [
       "<Figure size 720x720 with 1 Axes>"
      ]
     },
     "metadata": {},
     "output_type": "display_data"
    }
   ],
   "source": [
    "merged_phx_crimes.plot(column=\"INC NUMBER\",figsize=(10,10))"
   ]
  },
  {
   "cell_type": "markdown",
   "metadata": {},
   "source": [
    "### 15. Fancy! We can clearly see that the center of Phoenix is having more crimes than suburbs, makes sense right? \n",
    "\n",
    "The next step, we will make a more \"professional\" map, what i mean is that we can add a legend and change the color. Also, we would like to plot some cities on the map, just for refecence. And some people who are not familar with the PHX area will appreciate that!"
   ]
  },
  {
   "cell_type": "markdown",
   "metadata": {},
   "source": [
    "### 17. Let's do this by using the `geopandas`'s `points_from_xy` method for converting a  Lat-Long table to GeoDataFrame. "
   ]
  },
  {
   "cell_type": "code",
   "execution_count": null,
   "metadata": {},
   "outputs": [],
   "source": [
    "phx_cities = gpd.GeoDataFrame(phx_cities_df, geometry=gpd.points_from_xy(phx_cities_df.long, \n",
    "                                                                         phx_cities_df.lat))"
   ]
  },
  {
   "cell_type": "markdown",
   "metadata": {},
   "source": [
    "### 18. Last but not least, here is comes the \"pro\" map, and let's export to a image file."
   ]
  },
  {
   "cell_type": "code",
   "execution_count": null,
   "metadata": {},
   "outputs": [],
   "source": [
    "fig, ax = plt.subplots(1, figsize=(12, 12))\n",
    "merged_phx_crimes.plot(column=\"INC NUMBER\",figsize=(10,10), ax=ax, cmap='Reds',edgecolor='black', linewidth=0.2)\n",
    "phx_cities.plot(ax=ax,color=\"black\")\n",
    "\n",
    "vmin = merged_phx_crimes[\"INC NUMBER\"].min()\n",
    "vmax = merged_phx_crimes[\"INC NUMBER\"].max()\n",
    "\n",
    "plt.title(\"Phoenix Crime Map - Zipcode Level\",fontsize=20)\n",
    "\n",
    "for x, y, label in zip(phx_cities.geometry.x, phx_cities.geometry.y, phx_cities.PlaceName):\n",
    "        ax.annotate(label, xy=(x, y), xytext=(3, 3), textcoords=\"offset points\",fontsize=14)\n",
    "ax.axis('off')\n",
    "    \n",
    "sm = plt.cm.ScalarMappable(norm=plt.Normalize(vmin=vmin, vmax=vmax),cmap='Reds')\n",
    "sm._A = []\n",
    "cax = fig.add_axes([1, 0.15, 0.03, 0.65])\n",
    "fig.colorbar(sm, cax=cax)\n",
    "\n",
    "plt.savefig(\"phx_crime_map.png\",dpi=400,bbox_inches='tight')"
   ]
  },
  {
   "cell_type": "code",
   "execution_count": null,
   "metadata": {},
   "outputs": [],
   "source": [
    "merged_phx_crimes.to_file(\"../data/phoenix_crime_counts/phoenix_crime_counts.shp\")"
   ]
  },
  {
   "cell_type": "code",
   "execution_count": null,
   "metadata": {},
   "outputs": [],
   "source": []
  }
 ],
 "metadata": {
  "kernelspec": {
   "display_name": "Python [default]",
   "language": "python",
   "name": "python3"
  },
  "language_info": {
   "codemirror_mode": {
    "name": "ipython",
    "version": 3
   },
   "file_extension": ".py",
   "mimetype": "text/x-python",
   "name": "python",
   "nbconvert_exporter": "python",
   "pygments_lexer": "ipython3",
   "version": "3.5.4"
  }
 },
 "nbformat": 4,
 "nbformat_minor": 2
}
