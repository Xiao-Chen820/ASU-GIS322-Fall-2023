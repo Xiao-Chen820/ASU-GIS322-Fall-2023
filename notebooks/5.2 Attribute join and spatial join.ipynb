{
 "cells": [
  {
   "cell_type": "markdown",
   "metadata": {},
   "source": [
    "# 5.2 Attribute join and spatial join\n",
    "\n",
    "\n",
    "<br></br>\n",
    "<font size=\"3\">There are two ways to combine datasets in `geopandas` – attribute joins and spatial joins.\n",
    "<br></br>\n",
    "<br></br>\n",
    "In an <b>attribute join</b>, a `GeoSeries` or `GeoDataFrame` is combined with a regular pandas Series or DataFrame based on a <b>common variable</b>. This is analogous to normal merging or joining in pandas. An example would be joining student grade to student information based on student ID as the <b>key</b>.\n",
    "<br></br>\n",
    "<br></br>\n",
    "In a <b>spatial join</b>, observations from to GeoSeries or GeoDataFrames are combined based on their <b> spatial relationship</b> to one another. An example would be finding in which zipcode a crime incident happend by looking at which zipcode polygon contains that crime incident location. This operation definately needs more computation, but all is under the hood.\n",
    "\n",
    "<br></br>\n",
    "<br></br>\n",
    "In the below example, we will be using sample datasets from `geopandas` library to demostrate.\n",
    "</font>"
   ]
  },
  {
   "cell_type": "code",
   "execution_count": 8,
   "metadata": {},
   "outputs": [],
   "source": [
    "import geopandas\n",
    "%matplotlib inline"
   ]
  },
  {
   "cell_type": "markdown",
   "metadata": {},
   "source": [
    "## Attribute Joins\n",
    "<br></br>\n",
    "<font size=\"3\">Attribute joins are accomplished using the merge method. In general, it is recommended to use the merge method called from the spatial dataset. With that said, the stand-alone merge function will work if the GeoDataFrame is in the left argument; if a DataFrame is in the left argument and a GeoDataFrame is in the right position, the result will no longer be a GeoDataFrame.\n",
    "<br></br>\n",
    "<br></br>\n",
    "\n",
    "\n",
    "\n"
   ]
  },
  {
   "cell_type": "markdown",
   "metadata": {},
   "source": [
    "\n",
    "<font size=\"3\">For example, consider the following merge that adds full names to a GeoDataFrame that initially has only ISO codes for each country by merging it with a pandas DataFrame.</font> \n"
   ]
  },
  {
   "cell_type": "code",
   "execution_count": 9,
   "metadata": {},
   "outputs": [],
   "source": [
    "world = geopandas.read_file(geopandas.datasets.get_path('naturalearth_lowres'))\n",
    "\n",
    "country_shapes = world[['geometry', 'iso_a3']]\n",
    "country_names = world[['name', 'iso_a3']]"
   ]
  },
  {
   "cell_type": "markdown",
   "metadata": {},
   "source": [
    "<font size=\"3\">The first table `country_shapes` contains geometry and iso code of a given country. </font> "
   ]
  },
  {
   "cell_type": "code",
   "execution_count": 10,
   "metadata": {},
   "outputs": [
    {
     "data": {
      "text/html": [
       "<div>\n",
       "<style scoped>\n",
       "    .dataframe tbody tr th:only-of-type {\n",
       "        vertical-align: middle;\n",
       "    }\n",
       "\n",
       "    .dataframe tbody tr th {\n",
       "        vertical-align: top;\n",
       "    }\n",
       "\n",
       "    .dataframe thead th {\n",
       "        text-align: right;\n",
       "    }\n",
       "</style>\n",
       "<table border=\"1\" class=\"dataframe\">\n",
       "  <thead>\n",
       "    <tr style=\"text-align: right;\">\n",
       "      <th></th>\n",
       "      <th>geometry</th>\n",
       "      <th>iso_a3</th>\n",
       "    </tr>\n",
       "  </thead>\n",
       "  <tbody>\n",
       "    <tr>\n",
       "      <th>0</th>\n",
       "      <td>(POLYGON ((180 -16.06713266364245, 180 -16.555...</td>\n",
       "      <td>FJI</td>\n",
       "    </tr>\n",
       "    <tr>\n",
       "      <th>1</th>\n",
       "      <td>POLYGON ((33.90371119710453 -0.950000000000000...</td>\n",
       "      <td>TZA</td>\n",
       "    </tr>\n",
       "    <tr>\n",
       "      <th>2</th>\n",
       "      <td>POLYGON ((-8.665589565454809 27.65642588959236...</td>\n",
       "      <td>ESH</td>\n",
       "    </tr>\n",
       "    <tr>\n",
       "      <th>3</th>\n",
       "      <td>(POLYGON ((-122.84 49.00000000000011, -122.974...</td>\n",
       "      <td>CAN</td>\n",
       "    </tr>\n",
       "    <tr>\n",
       "      <th>4</th>\n",
       "      <td>(POLYGON ((-122.84 49.00000000000011, -120 49....</td>\n",
       "      <td>USA</td>\n",
       "    </tr>\n",
       "  </tbody>\n",
       "</table>\n",
       "</div>"
      ],
      "text/plain": [
       "                                            geometry iso_a3\n",
       "0  (POLYGON ((180 -16.06713266364245, 180 -16.555...    FJI\n",
       "1  POLYGON ((33.90371119710453 -0.950000000000000...    TZA\n",
       "2  POLYGON ((-8.665589565454809 27.65642588959236...    ESH\n",
       "3  (POLYGON ((-122.84 49.00000000000011, -122.974...    CAN\n",
       "4  (POLYGON ((-122.84 49.00000000000011, -120 49....    USA"
      ]
     },
     "execution_count": 10,
     "metadata": {},
     "output_type": "execute_result"
    }
   ],
   "source": [
    "country_shapes.head()"
   ]
  },
  {
   "cell_type": "markdown",
   "metadata": {},
   "source": [
    "<font size=\"3\">The second table `country_names` contains name and iso code of a given country. </font> "
   ]
  },
  {
   "cell_type": "code",
   "execution_count": 11,
   "metadata": {},
   "outputs": [
    {
     "data": {
      "text/html": [
       "<div>\n",
       "<style scoped>\n",
       "    .dataframe tbody tr th:only-of-type {\n",
       "        vertical-align: middle;\n",
       "    }\n",
       "\n",
       "    .dataframe tbody tr th {\n",
       "        vertical-align: top;\n",
       "    }\n",
       "\n",
       "    .dataframe thead th {\n",
       "        text-align: right;\n",
       "    }\n",
       "</style>\n",
       "<table border=\"1\" class=\"dataframe\">\n",
       "  <thead>\n",
       "    <tr style=\"text-align: right;\">\n",
       "      <th></th>\n",
       "      <th>name</th>\n",
       "      <th>iso_a3</th>\n",
       "    </tr>\n",
       "  </thead>\n",
       "  <tbody>\n",
       "    <tr>\n",
       "      <th>0</th>\n",
       "      <td>Fiji</td>\n",
       "      <td>FJI</td>\n",
       "    </tr>\n",
       "    <tr>\n",
       "      <th>1</th>\n",
       "      <td>Tanzania</td>\n",
       "      <td>TZA</td>\n",
       "    </tr>\n",
       "    <tr>\n",
       "      <th>2</th>\n",
       "      <td>W. Sahara</td>\n",
       "      <td>ESH</td>\n",
       "    </tr>\n",
       "    <tr>\n",
       "      <th>3</th>\n",
       "      <td>Canada</td>\n",
       "      <td>CAN</td>\n",
       "    </tr>\n",
       "    <tr>\n",
       "      <th>4</th>\n",
       "      <td>United States of America</td>\n",
       "      <td>USA</td>\n",
       "    </tr>\n",
       "  </tbody>\n",
       "</table>\n",
       "</div>"
      ],
      "text/plain": [
       "                       name iso_a3\n",
       "0                      Fiji    FJI\n",
       "1                  Tanzania    TZA\n",
       "2                 W. Sahara    ESH\n",
       "3                    Canada    CAN\n",
       "4  United States of America    USA"
      ]
     },
     "execution_count": 11,
     "metadata": {},
     "output_type": "execute_result"
    }
   ],
   "source": [
    "country_names.head()"
   ]
  },
  {
   "cell_type": "markdown",
   "metadata": {},
   "source": [
    "<font size=\"3\"> Lets merge two tables `country_names` with `country_shapes` using `merge` method on shared variable (iso codes `iso_a3`). The resulting table would have both name and geometry in one single table. </font> "
   ]
  },
  {
   "cell_type": "code",
   "execution_count": 12,
   "metadata": {},
   "outputs": [
    {
     "data": {
      "text/html": [
       "<div>\n",
       "<style scoped>\n",
       "    .dataframe tbody tr th:only-of-type {\n",
       "        vertical-align: middle;\n",
       "    }\n",
       "\n",
       "    .dataframe tbody tr th {\n",
       "        vertical-align: top;\n",
       "    }\n",
       "\n",
       "    .dataframe thead th {\n",
       "        text-align: right;\n",
       "    }\n",
       "</style>\n",
       "<table border=\"1\" class=\"dataframe\">\n",
       "  <thead>\n",
       "    <tr style=\"text-align: right;\">\n",
       "      <th></th>\n",
       "      <th>geometry</th>\n",
       "      <th>iso_a3</th>\n",
       "      <th>name</th>\n",
       "    </tr>\n",
       "  </thead>\n",
       "  <tbody>\n",
       "    <tr>\n",
       "      <th>0</th>\n",
       "      <td>(POLYGON ((180 -16.06713266364245, 180 -16.555...</td>\n",
       "      <td>FJI</td>\n",
       "      <td>Fiji</td>\n",
       "    </tr>\n",
       "    <tr>\n",
       "      <th>1</th>\n",
       "      <td>POLYGON ((33.90371119710453 -0.950000000000000...</td>\n",
       "      <td>TZA</td>\n",
       "      <td>Tanzania</td>\n",
       "    </tr>\n",
       "    <tr>\n",
       "      <th>2</th>\n",
       "      <td>POLYGON ((-8.665589565454809 27.65642588959236...</td>\n",
       "      <td>ESH</td>\n",
       "      <td>W. Sahara</td>\n",
       "    </tr>\n",
       "    <tr>\n",
       "      <th>3</th>\n",
       "      <td>(POLYGON ((-122.84 49.00000000000011, -122.974...</td>\n",
       "      <td>CAN</td>\n",
       "      <td>Canada</td>\n",
       "    </tr>\n",
       "    <tr>\n",
       "      <th>4</th>\n",
       "      <td>(POLYGON ((-122.84 49.00000000000011, -120 49....</td>\n",
       "      <td>USA</td>\n",
       "      <td>United States of America</td>\n",
       "    </tr>\n",
       "  </tbody>\n",
       "</table>\n",
       "</div>"
      ],
      "text/plain": [
       "                                            geometry iso_a3  \\\n",
       "0  (POLYGON ((180 -16.06713266364245, 180 -16.555...    FJI   \n",
       "1  POLYGON ((33.90371119710453 -0.950000000000000...    TZA   \n",
       "2  POLYGON ((-8.665589565454809 27.65642588959236...    ESH   \n",
       "3  (POLYGON ((-122.84 49.00000000000011, -122.974...    CAN   \n",
       "4  (POLYGON ((-122.84 49.00000000000011, -120 49....    USA   \n",
       "\n",
       "                       name  \n",
       "0                      Fiji  \n",
       "1                  Tanzania  \n",
       "2                 W. Sahara  \n",
       "3                    Canada  \n",
       "4  United States of America  "
      ]
     },
     "execution_count": 12,
     "metadata": {},
     "output_type": "execute_result"
    }
   ],
   "source": [
    "country_merged = country_shapes.merge(country_names, on='iso_a3')\n",
    "country_merged.head()"
   ]
  },
  {
   "cell_type": "markdown",
   "metadata": {},
   "source": [
    "## Spatial Joins\n",
    "<br></br>\n",
    "<font size=\"3\"> Spatial joins are joining based on geometries. In this example, we have a list of cities that we know their coordinates, but we don't know which country each city is within. And spatial join can help in this case. The command in `geopandas` is `sjoin`.\n",
    "<br></br>\n",
    "<br></br>\n",
    "\n",
    "\n",
    "\n",
    "\n"
   ]
  },
  {
   "cell_type": "code",
   "execution_count": 13,
   "metadata": {},
   "outputs": [],
   "source": [
    "cities = geopandas.read_file(geopandas.datasets.get_path('naturalearth_cities'))"
   ]
  },
  {
   "cell_type": "code",
   "execution_count": 16,
   "metadata": {},
   "outputs": [
    {
     "data": {
      "text/html": [
       "<div>\n",
       "<style scoped>\n",
       "    .dataframe tbody tr th:only-of-type {\n",
       "        vertical-align: middle;\n",
       "    }\n",
       "\n",
       "    .dataframe tbody tr th {\n",
       "        vertical-align: top;\n",
       "    }\n",
       "\n",
       "    .dataframe thead th {\n",
       "        text-align: right;\n",
       "    }\n",
       "</style>\n",
       "<table border=\"1\" class=\"dataframe\">\n",
       "  <thead>\n",
       "    <tr style=\"text-align: right;\">\n",
       "      <th></th>\n",
       "      <th>name</th>\n",
       "      <th>geometry</th>\n",
       "    </tr>\n",
       "  </thead>\n",
       "  <tbody>\n",
       "    <tr>\n",
       "      <th>0</th>\n",
       "      <td>Vatican City</td>\n",
       "      <td>POINT (12.45338654497177 41.90328217996012)</td>\n",
       "    </tr>\n",
       "    <tr>\n",
       "      <th>1</th>\n",
       "      <td>San Marino</td>\n",
       "      <td>POINT (12.44177015780014 43.936095834768)</td>\n",
       "    </tr>\n",
       "    <tr>\n",
       "      <th>2</th>\n",
       "      <td>Vaduz</td>\n",
       "      <td>POINT (9.516669472907267 47.13372377429357)</td>\n",
       "    </tr>\n",
       "    <tr>\n",
       "      <th>3</th>\n",
       "      <td>Luxembourg</td>\n",
       "      <td>POINT (6.130002806227083 49.61166037912108)</td>\n",
       "    </tr>\n",
       "    <tr>\n",
       "      <th>4</th>\n",
       "      <td>Palikir</td>\n",
       "      <td>POINT (158.1499743237623 6.916643696007725)</td>\n",
       "    </tr>\n",
       "  </tbody>\n",
       "</table>\n",
       "</div>"
      ],
      "text/plain": [
       "           name                                     geometry\n",
       "0  Vatican City  POINT (12.45338654497177 41.90328217996012)\n",
       "1    San Marino    POINT (12.44177015780014 43.936095834768)\n",
       "2         Vaduz  POINT (9.516669472907267 47.13372377429357)\n",
       "3    Luxembourg  POINT (6.130002806227083 49.61166037912108)\n",
       "4       Palikir  POINT (158.1499743237623 6.916643696007725)"
      ]
     },
     "execution_count": 16,
     "metadata": {},
     "output_type": "execute_result"
    }
   ],
   "source": [
    "cities.head()"
   ]
  },
  {
   "cell_type": "markdown",
   "metadata": {},
   "source": [
    "<br></br>\n",
    "<font size=\"3\"> Let's play around with those methods using the US lower 48 states example.</font>"
   ]
  },
  {
   "cell_type": "code",
   "execution_count": 17,
   "metadata": {},
   "outputs": [],
   "source": [
    "countries = world[['geometry', 'name']]\n",
    "countries = countries.rename(columns={'name':'country'})"
   ]
  },
  {
   "cell_type": "code",
   "execution_count": 18,
   "metadata": {},
   "outputs": [
    {
     "data": {
      "text/html": [
       "<div>\n",
       "<style scoped>\n",
       "    .dataframe tbody tr th:only-of-type {\n",
       "        vertical-align: middle;\n",
       "    }\n",
       "\n",
       "    .dataframe tbody tr th {\n",
       "        vertical-align: top;\n",
       "    }\n",
       "\n",
       "    .dataframe thead th {\n",
       "        text-align: right;\n",
       "    }\n",
       "</style>\n",
       "<table border=\"1\" class=\"dataframe\">\n",
       "  <thead>\n",
       "    <tr style=\"text-align: right;\">\n",
       "      <th></th>\n",
       "      <th>geometry</th>\n",
       "      <th>country</th>\n",
       "    </tr>\n",
       "  </thead>\n",
       "  <tbody>\n",
       "    <tr>\n",
       "      <th>0</th>\n",
       "      <td>(POLYGON ((180 -16.06713266364245, 180 -16.555...</td>\n",
       "      <td>Fiji</td>\n",
       "    </tr>\n",
       "    <tr>\n",
       "      <th>1</th>\n",
       "      <td>POLYGON ((33.90371119710453 -0.950000000000000...</td>\n",
       "      <td>Tanzania</td>\n",
       "    </tr>\n",
       "    <tr>\n",
       "      <th>2</th>\n",
       "      <td>POLYGON ((-8.665589565454809 27.65642588959236...</td>\n",
       "      <td>W. Sahara</td>\n",
       "    </tr>\n",
       "    <tr>\n",
       "      <th>3</th>\n",
       "      <td>(POLYGON ((-122.84 49.00000000000011, -122.974...</td>\n",
       "      <td>Canada</td>\n",
       "    </tr>\n",
       "    <tr>\n",
       "      <th>4</th>\n",
       "      <td>(POLYGON ((-122.84 49.00000000000011, -120 49....</td>\n",
       "      <td>United States of America</td>\n",
       "    </tr>\n",
       "  </tbody>\n",
       "</table>\n",
       "</div>"
      ],
      "text/plain": [
       "                                            geometry                   country\n",
       "0  (POLYGON ((180 -16.06713266364245, 180 -16.555...                      Fiji\n",
       "1  POLYGON ((33.90371119710453 -0.950000000000000...                  Tanzania\n",
       "2  POLYGON ((-8.665589565454809 27.65642588959236...                 W. Sahara\n",
       "3  (POLYGON ((-122.84 49.00000000000011, -122.974...                    Canada\n",
       "4  (POLYGON ((-122.84 49.00000000000011, -120 49....  United States of America"
      ]
     },
     "execution_count": 18,
     "metadata": {},
     "output_type": "execute_result"
    }
   ],
   "source": [
    "countries.head()"
   ]
  },
  {
   "cell_type": "markdown",
   "metadata": {},
   "source": [
    "<br></br>\n",
    "<font size=\"3\"> Let's execute the spatila join with the `sjoin()` command.</font>"
   ]
  },
  {
   "cell_type": "code",
   "execution_count": 20,
   "metadata": {},
   "outputs": [
    {
     "data": {
      "text/html": [
       "<div>\n",
       "<style scoped>\n",
       "    .dataframe tbody tr th:only-of-type {\n",
       "        vertical-align: middle;\n",
       "    }\n",
       "\n",
       "    .dataframe tbody tr th {\n",
       "        vertical-align: top;\n",
       "    }\n",
       "\n",
       "    .dataframe thead th {\n",
       "        text-align: right;\n",
       "    }\n",
       "</style>\n",
       "<table border=\"1\" class=\"dataframe\">\n",
       "  <thead>\n",
       "    <tr style=\"text-align: right;\">\n",
       "      <th></th>\n",
       "      <th>name</th>\n",
       "      <th>geometry</th>\n",
       "      <th>index_right</th>\n",
       "      <th>country</th>\n",
       "    </tr>\n",
       "  </thead>\n",
       "  <tbody>\n",
       "    <tr>\n",
       "      <th>0</th>\n",
       "      <td>Vatican City</td>\n",
       "      <td>POINT (12.45338654497177 41.90328217996012)</td>\n",
       "      <td>141</td>\n",
       "      <td>Italy</td>\n",
       "    </tr>\n",
       "    <tr>\n",
       "      <th>1</th>\n",
       "      <td>San Marino</td>\n",
       "      <td>POINT (12.44177015780014 43.936095834768)</td>\n",
       "      <td>141</td>\n",
       "      <td>Italy</td>\n",
       "    </tr>\n",
       "    <tr>\n",
       "      <th>192</th>\n",
       "      <td>Rome</td>\n",
       "      <td>POINT (12.481312562874 41.89790148509894)</td>\n",
       "      <td>141</td>\n",
       "      <td>Italy</td>\n",
       "    </tr>\n",
       "    <tr>\n",
       "      <th>2</th>\n",
       "      <td>Vaduz</td>\n",
       "      <td>POINT (9.516669472907267 47.13372377429357)</td>\n",
       "      <td>114</td>\n",
       "      <td>Austria</td>\n",
       "    </tr>\n",
       "    <tr>\n",
       "      <th>184</th>\n",
       "      <td>Vienna</td>\n",
       "      <td>POINT (16.36469309674374 48.20196113681686)</td>\n",
       "      <td>114</td>\n",
       "      <td>Austria</td>\n",
       "    </tr>\n",
       "  </tbody>\n",
       "</table>\n",
       "</div>"
      ],
      "text/plain": [
       "             name                                     geometry  index_right  \\\n",
       "0    Vatican City  POINT (12.45338654497177 41.90328217996012)          141   \n",
       "1      San Marino    POINT (12.44177015780014 43.936095834768)          141   \n",
       "192          Rome    POINT (12.481312562874 41.89790148509894)          141   \n",
       "2           Vaduz  POINT (9.516669472907267 47.13372377429357)          114   \n",
       "184        Vienna  POINT (16.36469309674374 48.20196113681686)          114   \n",
       "\n",
       "     country  \n",
       "0      Italy  \n",
       "1      Italy  \n",
       "192    Italy  \n",
       "2    Austria  \n",
       "184  Austria  "
      ]
     },
     "execution_count": 20,
     "metadata": {},
     "output_type": "execute_result"
    }
   ],
   "source": [
    "# Execute spatial join\n",
    "cities_with_country = geopandas.sjoin(cities, countries, how=\"inner\", op='intersects')\n",
    "cities_with_country.head()"
   ]
  },
  {
   "cell_type": "markdown",
   "metadata": {},
   "source": [
    "<br></br>\n",
    "<font size=\"3\"> And here we go, we can see that each city is now joined with the country. For example, Vatican City is joined with Italy.</font>"
   ]
  },
  {
   "cell_type": "markdown",
   "metadata": {},
   "source": [
    "## join Arguments\n",
    "<br></br>\n",
    "<font size=\"3\"> If you notice, there are two arguments in the `sjoin()` function above: `how=\"inner\"` and `op='intersects'`.\n",
    "\n",
    "### op\n",
    "<br></br>\n",
    "The `op` argument specifies how geopandas decides whether or not to join the attributes of one object to another. There are three different join options as follows:\n",
    "\n",
    "* intersects: The attributes will be joined if the boundary and interior of the object intersect in any way with the boundary and/or interior of the other object.\n",
    "* within: The attributes will be joined if the object’s boundary and interior intersect only with the interior of the other object (not its boundary or exterior).\n",
    "* contains: The attributes will be joined if the object’s interior contains the boundary and interior of the other object and their boundaries do not touch at all.\n",
    "\n",
    "You can read more about each join type in the Shapely documentation.\n",
    "\n",
    "how\n",
    "\n",
    "The how argument specifies the type of join that will occur and which geometry is retained in the resultant geodataframe. It accepts the following options:\n",
    "\n",
    "left: use the index from the first (or left_df) geodataframe that you provide to sjoin; retain only the left_df geometry column\n",
    "right: use index from second (or right_df); retain only the right_df geometry column\n",
    "inner: use intersection of index values from both geodataframes; retain only the left_df geometry column\n",
    "Note more complicated spatial relationships can be studied by combining geometric operations with spatial join. To find all polygons within a given distance of a point, for example, one can first use the buffer method to expand each point into a circle of appropriate radius, then intersect those buffered circles with the polygons in question."
   ]
  },
  {
   "cell_type": "code",
   "execution_count": null,
   "metadata": {},
   "outputs": [],
   "source": []
  },
  {
   "cell_type": "code",
   "execution_count": null,
   "metadata": {},
   "outputs": [],
   "source": []
  }
 ],
 "metadata": {
  "kernelspec": {
   "display_name": "Python [conda root]",
   "language": "python",
   "name": "conda-root-py"
  },
  "language_info": {
   "codemirror_mode": {
    "name": "ipython",
    "version": 3
   },
   "file_extension": ".py",
   "mimetype": "text/x-python",
   "name": "python",
   "nbconvert_exporter": "python",
   "pygments_lexer": "ipython3",
   "version": "3.5.4"
  }
 },
 "nbformat": 4,
 "nbformat_minor": 2
}
