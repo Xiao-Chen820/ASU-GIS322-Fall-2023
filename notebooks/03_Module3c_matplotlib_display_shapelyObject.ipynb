{
  "cells": [
    {
      "cell_type": "markdown",
      "metadata": {
        "colab_type": "text",
        "id": "view-in-github"
      },
      "source": [
        "<a href=\"https://colab.research.google.com/github/Xiao-Chen820/ASU-GIS322-Fall-2023/blob/master/notebooks/03_Module3c_matplotlib_display_shapelyObject.ipynb\" target=\"_parent\"><img src=\"https://colab.research.google.com/assets/colab-badge.svg\" alt=\"Open In Colab\"/></a>"
      ]
    },
    {
      "cell_type": "markdown",
      "metadata": {
        "colab_type": "text",
        "id": "AjYZe38r0WUE"
      },
      "source": [
        "## Using matplotlib to plot lines\n",
        "\n",
        "This tutorial gives an example of using matplotlib to plot lines represented in a shapely **MultiLineString**"
      ]
    },
    {
      "cell_type": "code",
      "execution_count": 1,
      "metadata": {
        "colab": {
          "base_uri": "https://localhost:8080/",
          "height": 412
        },
        "colab_type": "code",
        "id": "VjpkVKC8lvW-",
        "outputId": "f9ddf3a8-4cdd-43a6-b041-3ec6bddf3fff"
      },
      "outputs": [
        {
          "data": {
            "image/png": "[encoded data removed]",
            "text/plain": [
              "<Figure size 720x444.984 with 1 Axes>"
            ]
          },
          "metadata": {
            "tags": []
          },
          "output_type": "display_data"
        }
      ],
      "source": [
        "from matplotlib import pyplot\n",
        "from shapely.geometry import MultiLineString\n",
        "import math\n",
        "import numpy\n",
        "\n",
        "COLOR = {\n",
        "    True:  '#6699cc',\n",
        "    False: '#ffcc33'\n",
        "    }\n",
        "\n",
        "def v_color(ob): \n",
        "    return COLOR[ob.is_simple]\n",
        "\n",
        "def plot_coords(ax, ob):  # display cordinates \n",
        "    for line in ob:\n",
        "        x, y = line.xy\n",
        "        ax.plot(x, y, 'o', color='#999999', zorder=1)\n",
        "\n",
        "def plot_bounds(ax, ob): # display coordinates at the bound (begin and end points of a line)\n",
        "    for line in ob:\n",
        "      bds = line.boundary\n",
        "      pts = list(bds.geoms)\n",
        "      x, y = zip(*list((p.x, p.y) for p in pts))\n",
        "      ax.plot(x, y, 'o', color='#000000', zorder=1)\n",
        "\n",
        "def plot_lines(ax, ob): # draw lines\n",
        "    for line in ob:\n",
        "        print(line)\n",
        "        x, y = line.xy\n",
        "        ax.plot(x, y, color=v_color(line), alpha=0.7,  solid_capstyle='round', zorder=2)\n",
        "\n",
        "fig = pyplot.figure(1, figsize=(8.0, 4.0*(math.sqrt(5)-1)), dpi=90) # figuresize -- provide width and height information\n",
        "\n",
        "# 1: multilinestring\n",
        "ax = fig.add_subplot(121)\n",
        "\n",
        "mline1 = MultiLineString([((0, 0), (1, 1)), ((0, 2),  (1, 1.5)), ((1.5, 1), (2, 0))])\n",
        "\n",
        "plot_coords(ax, mline1)\n",
        "plot_bounds(ax, mline1)\n",
        "plot_lines(ax, mline1)\n",
        "\n",
        "ax.set_title('O-D segments: ')\n",
        "\n",
        "xrange = [-1, 3]\n",
        "yrange = [-1, 3]\n",
        "ax.set_xlim(*xrange)\n",
        "\n",
        "pyplot.show()\n",
        "\n"
      ]
    },
    {
      "cell_type": "code",
      "execution_count": null,
      "metadata": {
        "colab": {},
        "colab_type": "code",
        "id": "eaiMEGPQlv4R"
      },
      "outputs": [],
      "source": []
    }
  ],
  "metadata": {
    "colab": {
      "collapsed_sections": [],
      "include_colab_link": true,
      "name": "03_Module3c_matplotlib_display_shapelyObject",
      "provenance": []
    },
    "kernelspec": {
      "display_name": "Python 3",
      "name": "python3"
    }
  },
  "nbformat": 4,
  "nbformat_minor": 0
}
