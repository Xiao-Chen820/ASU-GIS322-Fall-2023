{
 "cells": [
  {
   "cell_type": "markdown",
   "metadata": {},
   "source": [
    "# Reading and Writing Spatial Data\n",
    "\n",
    "\n",
    "\n",
    "\n",
    "\n",
    "<br></br>\n",
    "<font size=\"4\">In this notebook, you will learn how to read and write spatial data (like ESRI's shapefiles) in python using `geopandas` library.</font>\n",
    "\n",
    "\n",
    "\n"
   ]
  },
  {
   "cell_type": "markdown",
   "metadata": {},
   "source": [
    "## Reading Spatial Data \n",
    "\n",
    "\n",
    "\n",
    "\n",
    "<br></br>\n",
    "<font size=\"4\">geopandas can read almost any vector-based spatial data format including ESRI shapefile, GeoJSON files and more using the command:</font>\n",
    "\n",
    "\n",
    "<br></br>\n",
    "`geopandas.read_file()`\n",
    "\n"
   ]
  },
  {
   "cell_type": "code",
   "execution_count": 1,
   "metadata": {},
   "outputs": [],
   "source": [
    "import geopandas as gpd\n",
    "import matplotlib.pyplot as plt"
   ]
  },
  {
   "cell_type": "code",
   "execution_count": 2,
   "metadata": {},
   "outputs": [],
   "source": [
    "%matplotlib inline"
   ]
  },
  {
   "cell_type": "code",
   "execution_count": 3,
   "metadata": {},
   "outputs": [],
   "source": [
    "states = gpd.read_file(\"/Users/Ziqi/Desktop/GIS 322 Fall 19/Data/US_states/tl_2018_us_state.shp\")"
   ]
  },
  {
   "cell_type": "markdown",
   "metadata": {},
   "source": [
    "\n",
    "<br></br>\n",
    "<font size=\"4\">The file read in is called a `GeoDataFrame`</font>"
   ]
  },
  {
   "cell_type": "code",
   "execution_count": 4,
   "metadata": {},
   "outputs": [
    {
     "data": {
      "text/plain": [
       "geopandas.geodataframe.GeoDataFrame"
      ]
     },
     "execution_count": 4,
     "metadata": {},
     "output_type": "execute_result"
    }
   ],
   "source": [
    "states.__class__"
   ]
  },
  {
   "cell_type": "markdown",
   "metadata": {},
   "source": [
    "\n",
    "<br></br>\n",
    "<font size=\"4\">Note that last column `geometry` in the GeoDataFrame `states` contains shapes. Other columns contain the attributes of each ploygon, in our example of each state.</font>"
   ]
  },
  {
   "cell_type": "code",
   "execution_count": 5,
   "metadata": {},
   "outputs": [
    {
     "data": {
      "text/html": [
       "<div>\n",
       "<style scoped>\n",
       "    .dataframe tbody tr th:only-of-type {\n",
       "        vertical-align: middle;\n",
       "    }\n",
       "\n",
       "    .dataframe tbody tr th {\n",
       "        vertical-align: top;\n",
       "    }\n",
       "\n",
       "    .dataframe thead th {\n",
       "        text-align: right;\n",
       "    }\n",
       "</style>\n",
       "<table border=\"1\" class=\"dataframe\">\n",
       "  <thead>\n",
       "    <tr style=\"text-align: right;\">\n",
       "      <th></th>\n",
       "      <th>REGION</th>\n",
       "      <th>DIVISION</th>\n",
       "      <th>STATEFP</th>\n",
       "      <th>STATENS</th>\n",
       "      <th>GEOID</th>\n",
       "      <th>STUSPS</th>\n",
       "      <th>NAME</th>\n",
       "      <th>LSAD</th>\n",
       "      <th>MTFCC</th>\n",
       "      <th>FUNCSTAT</th>\n",
       "      <th>ALAND</th>\n",
       "      <th>AWATER</th>\n",
       "      <th>INTPTLAT</th>\n",
       "      <th>INTPTLON</th>\n",
       "      <th>geometry</th>\n",
       "    </tr>\n",
       "  </thead>\n",
       "  <tbody>\n",
       "    <tr>\n",
       "      <th>0</th>\n",
       "      <td>3</td>\n",
       "      <td>5</td>\n",
       "      <td>54</td>\n",
       "      <td>01779805</td>\n",
       "      <td>54</td>\n",
       "      <td>WV</td>\n",
       "      <td>West Virginia</td>\n",
       "      <td>00</td>\n",
       "      <td>G4000</td>\n",
       "      <td>A</td>\n",
       "      <td>62266474513</td>\n",
       "      <td>489028543</td>\n",
       "      <td>+38.6472854</td>\n",
       "      <td>-080.6183274</td>\n",
       "      <td>POLYGON ((-81.747254 39.095379, -81.746354 39....</td>\n",
       "    </tr>\n",
       "    <tr>\n",
       "      <th>1</th>\n",
       "      <td>3</td>\n",
       "      <td>5</td>\n",
       "      <td>12</td>\n",
       "      <td>00294478</td>\n",
       "      <td>12</td>\n",
       "      <td>FL</td>\n",
       "      <td>Florida</td>\n",
       "      <td>00</td>\n",
       "      <td>G4000</td>\n",
       "      <td>A</td>\n",
       "      <td>138949136250</td>\n",
       "      <td>31361101223</td>\n",
       "      <td>+28.4574302</td>\n",
       "      <td>-082.4091477</td>\n",
       "      <td>(POLYGON ((-86.38864599999999 30.994181, -86.3...</td>\n",
       "    </tr>\n",
       "    <tr>\n",
       "      <th>2</th>\n",
       "      <td>2</td>\n",
       "      <td>3</td>\n",
       "      <td>17</td>\n",
       "      <td>01779784</td>\n",
       "      <td>17</td>\n",
       "      <td>IL</td>\n",
       "      <td>Illinois</td>\n",
       "      <td>00</td>\n",
       "      <td>G4000</td>\n",
       "      <td>A</td>\n",
       "      <td>143780567633</td>\n",
       "      <td>6214824948</td>\n",
       "      <td>+40.1028754</td>\n",
       "      <td>-089.1526108</td>\n",
       "      <td>POLYGON ((-91.185295 40.637803, -91.1751 40.64...</td>\n",
       "    </tr>\n",
       "    <tr>\n",
       "      <th>3</th>\n",
       "      <td>2</td>\n",
       "      <td>4</td>\n",
       "      <td>27</td>\n",
       "      <td>00662849</td>\n",
       "      <td>27</td>\n",
       "      <td>MN</td>\n",
       "      <td>Minnesota</td>\n",
       "      <td>00</td>\n",
       "      <td>G4000</td>\n",
       "      <td>A</td>\n",
       "      <td>206228939448</td>\n",
       "      <td>18945217189</td>\n",
       "      <td>+46.3159573</td>\n",
       "      <td>-094.1996043</td>\n",
       "      <td>POLYGON ((-96.784381 46.63050399999999, -96.78...</td>\n",
       "    </tr>\n",
       "    <tr>\n",
       "      <th>4</th>\n",
       "      <td>3</td>\n",
       "      <td>5</td>\n",
       "      <td>24</td>\n",
       "      <td>01714934</td>\n",
       "      <td>24</td>\n",
       "      <td>MD</td>\n",
       "      <td>Maryland</td>\n",
       "      <td>00</td>\n",
       "      <td>G4000</td>\n",
       "      <td>A</td>\n",
       "      <td>25151100280</td>\n",
       "      <td>6979966958</td>\n",
       "      <td>+38.9466584</td>\n",
       "      <td>-076.6744939</td>\n",
       "      <td>POLYGON ((-77.45880799999999 39.22027, -77.458...</td>\n",
       "    </tr>\n",
       "  </tbody>\n",
       "</table>\n",
       "</div>"
      ],
      "text/plain": [
       "  REGION DIVISION STATEFP   STATENS GEOID STUSPS           NAME LSAD  MTFCC  \\\n",
       "0      3        5      54  01779805    54     WV  West Virginia   00  G4000   \n",
       "1      3        5      12  00294478    12     FL        Florida   00  G4000   \n",
       "2      2        3      17  01779784    17     IL       Illinois   00  G4000   \n",
       "3      2        4      27  00662849    27     MN      Minnesota   00  G4000   \n",
       "4      3        5      24  01714934    24     MD       Maryland   00  G4000   \n",
       "\n",
       "  FUNCSTAT         ALAND       AWATER     INTPTLAT      INTPTLON  \\\n",
       "0        A   62266474513    489028543  +38.6472854  -080.6183274   \n",
       "1        A  138949136250  31361101223  +28.4574302  -082.4091477   \n",
       "2        A  143780567633   6214824948  +40.1028754  -089.1526108   \n",
       "3        A  206228939448  18945217189  +46.3159573  -094.1996043   \n",
       "4        A   25151100280   6979966958  +38.9466584  -076.6744939   \n",
       "\n",
       "                                            geometry  \n",
       "0  POLYGON ((-81.747254 39.095379, -81.746354 39....  \n",
       "1  (POLYGON ((-86.38864599999999 30.994181, -86.3...  \n",
       "2  POLYGON ((-91.185295 40.637803, -91.1751 40.64...  \n",
       "3  POLYGON ((-96.784381 46.63050399999999, -96.78...  \n",
       "4  POLYGON ((-77.45880799999999 39.22027, -77.458...  "
      ]
     },
     "execution_count": 5,
     "metadata": {},
     "output_type": "execute_result"
    }
   ],
   "source": [
    "states.head()"
   ]
  },
  {
   "cell_type": "markdown",
   "metadata": {},
   "source": [
    "## Plotting Spatial Data \n",
    "\n",
    "\n",
    "<br></br>\n",
    "\n",
    "<font size=\"4\">After your spatial data are readed in, you can use this command to do a simple plot:</font>\n",
    "\n",
    "<br></br>\n",
    "`GeoDataFrame.plot()`\n",
    "\n",
    "<br></br>\n",
    "<font size=\"4\">where in the below example, there are several added argument in the `GeoDataFrame.plot()`</font>\n",
    "\n",
    "\n",
    "* ```figsize=(10,5)``` is to set the size of the figure\n",
    "* ```color='white'``` is to set the fill color of the polygon\n",
    "* ```edgecolor='black'``` is to set the edge color of the polygon"
   ]
  },
  {
   "cell_type": "code",
   "execution_count": 6,
   "metadata": {},
   "outputs": [
    {
     "data": {
      "text/plain": [
       "<matplotlib.axes._subplots.AxesSubplot at 0x114208e48>"
      ]
     },
     "execution_count": 6,
     "metadata": {},
     "output_type": "execute_result"
    },
    {
     "data": {
      "image/png": "[encoded data removed]",
      "text/plain": [
       "<Figure size 720x360 with 1 Axes>"
      ]
     },
     "metadata": {},
     "output_type": "display_data"
    }
   ],
   "source": [
    "states.plot(figsize=(10,5),color='white', edgecolor='black')"
   ]
  },
  {
   "cell_type": "markdown",
   "metadata": {},
   "source": [
    "\n",
    "<br></br>\n",
    "<font size=\"4\">A `geopandas`'s `GeoDataFrame` is a subclass of `pandas`'s `DataFrame`, which means that all the methods in `pandas.DataFrame` apply to `geopandas.GeoDataFrame`.</font>\n",
    "\n",
    "<br></br>\n",
    "<font size=\"4\">For example, let's subset our `states` and get Arizona!</font>\n",
    " \n",
    " "
   ]
  },
  {
   "cell_type": "code",
   "execution_count": 7,
   "metadata": {},
   "outputs": [
    {
     "data": {
      "text/html": [
       "<div>\n",
       "<style scoped>\n",
       "    .dataframe tbody tr th:only-of-type {\n",
       "        vertical-align: middle;\n",
       "    }\n",
       "\n",
       "    .dataframe tbody tr th {\n",
       "        vertical-align: top;\n",
       "    }\n",
       "\n",
       "    .dataframe thead th {\n",
       "        text-align: right;\n",
       "    }\n",
       "</style>\n",
       "<table border=\"1\" class=\"dataframe\">\n",
       "  <thead>\n",
       "    <tr style=\"text-align: right;\">\n",
       "      <th></th>\n",
       "      <th>REGION</th>\n",
       "      <th>DIVISION</th>\n",
       "      <th>STATEFP</th>\n",
       "      <th>STATENS</th>\n",
       "      <th>GEOID</th>\n",
       "      <th>STUSPS</th>\n",
       "      <th>NAME</th>\n",
       "      <th>LSAD</th>\n",
       "      <th>MTFCC</th>\n",
       "      <th>FUNCSTAT</th>\n",
       "      <th>ALAND</th>\n",
       "      <th>AWATER</th>\n",
       "      <th>INTPTLAT</th>\n",
       "      <th>INTPTLON</th>\n",
       "      <th>geometry</th>\n",
       "    </tr>\n",
       "  </thead>\n",
       "  <tbody>\n",
       "    <tr>\n",
       "      <th>55</th>\n",
       "      <td>4</td>\n",
       "      <td>8</td>\n",
       "      <td>04</td>\n",
       "      <td>01779777</td>\n",
       "      <td>04</td>\n",
       "      <td>AZ</td>\n",
       "      <td>Arizona</td>\n",
       "      <td>00</td>\n",
       "      <td>G4000</td>\n",
       "      <td>A</td>\n",
       "      <td>294198551143</td>\n",
       "      <td>1027337603</td>\n",
       "      <td>+34.2039355</td>\n",
       "      <td>-111.6063565</td>\n",
       "      <td>POLYGON ((-114.516454 33.027617, -114.516639 3...</td>\n",
       "    </tr>\n",
       "  </tbody>\n",
       "</table>\n",
       "</div>"
      ],
      "text/plain": [
       "   REGION DIVISION STATEFP   STATENS GEOID STUSPS     NAME LSAD  MTFCC  \\\n",
       "55      4        8      04  01779777    04     AZ  Arizona   00  G4000   \n",
       "\n",
       "   FUNCSTAT         ALAND      AWATER     INTPTLAT      INTPTLON  \\\n",
       "55        A  294198551143  1027337603  +34.2039355  -111.6063565   \n",
       "\n",
       "                                             geometry  \n",
       "55  POLYGON ((-114.516454 33.027617, -114.516639 3...  "
      ]
     },
     "execution_count": 7,
     "metadata": {},
     "output_type": "execute_result"
    }
   ],
   "source": [
    "AZ = states[states.NAME == \"Arizona\"]\n",
    "AZ"
   ]
  },
  {
   "cell_type": "code",
   "execution_count": 8,
   "metadata": {},
   "outputs": [
    {
     "data": {
      "text/plain": [
       "<matplotlib.axes._subplots.AxesSubplot at 0x1155a9da0>"
      ]
     },
     "execution_count": 8,
     "metadata": {},
     "output_type": "execute_result"
    },
    {
     "data": {
      "image/png": "[encoded data removed]",
      "text/plain": [
       "<Figure size 432x288 with 1 Axes>"
      ]
     },
     "metadata": {},
     "output_type": "display_data"
    }
   ],
   "source": [
    "AZ.plot()"
   ]
  },
  {
   "cell_type": "markdown",
   "metadata": {},
   "source": [
    "\n",
    "<br></br>\n",
    "<font size=\"4\">You can change the fill color of the polygon by using `.plot(,color=\"orange\")`.</font>"
   ]
  },
  {
   "cell_type": "code",
   "execution_count": 9,
   "metadata": {},
   "outputs": [
    {
     "data": {
      "text/plain": [
       "Text(0.5, 0.98, 'Arizona')"
      ]
     },
     "execution_count": 9,
     "metadata": {},
     "output_type": "execute_result"
    },
    {
     "data": {
      "image/png": "[encoded data removed]",
      "text/plain": [
       "<Figure size 432x288 with 1 Axes>"
      ]
     },
     "metadata": {},
     "output_type": "display_data"
    }
   ],
   "source": [
    "fig, ax = plt.subplots(1, 1)\n",
    "AZ.plot(ax=ax, color=\"orange\")\n",
    "fig.suptitle(\"Arizona\")"
   ]
  },
  {
   "cell_type": "markdown",
   "metadata": {},
   "source": [
    "\n",
    "<br></br>\n",
    "<font size=\"4\">Now, let's add our capital ono the map. We will be creating a `shapely.geometry.Point` class, and use Phoenix's longitude and latitude to initalize the `Point` class, like this</font>"
   ]
  },
  {
   "cell_type": "code",
   "execution_count": 10,
   "metadata": {},
   "outputs": [],
   "source": [
    "from shapely.geometry import Point\n",
    "PHX_coor = Point(-112.0740, 33.4484)\n",
    "phx = gpd.GeoSeries(PHX_coor)"
   ]
  },
  {
   "cell_type": "code",
   "execution_count": 11,
   "metadata": {},
   "outputs": [
    {
     "data": {
      "text/plain": [
       "Text(0.5, 0.98, 'Arizona')"
      ]
     },
     "execution_count": 11,
     "metadata": {},
     "output_type": "execute_result"
    },
    {
     "data": {
      "image/png": "[encoded data removed]",
      "text/plain": [
       "<Figure size 432x288 with 1 Axes>"
      ]
     },
     "metadata": {},
     "output_type": "display_data"
    }
   ],
   "source": [
    "fig, ax = plt.subplots(1, 1)\n",
    "AZ.plot(ax=ax, color=\"orange\")\n",
    "phx.plot(ax=ax,marker=\"*\",markersize=500,color=\"red\")\n",
    "fig.suptitle(\"Arizona\")"
   ]
  },
  {
   "cell_type": "markdown",
   "metadata": {},
   "source": [
    "<br></br>\n",
    "<font size=\"4\">Lets do a bit more of exploration. In the example given below, I excluded the states that are nont in the lower 48.</font>"
   ]
  },
  {
   "cell_type": "code",
   "execution_count": 12,
   "metadata": {},
   "outputs": [
    {
     "data": {
      "text/plain": [
       "<matplotlib.axes._subplots.AxesSubplot at 0x10268f320>"
      ]
     },
     "execution_count": 12,
     "metadata": {},
     "output_type": "execute_result"
    },
    {
     "data": {
      "image/png": "[encoded data removed]",
      "text/plain": [
       "<Figure size 720x720 with 1 Axes>"
      ]
     },
     "metadata": {},
     "output_type": "display_data"
    }
   ],
   "source": [
    "contig = states[~states.NAME.isin([\"Alaska\", \"Rhode Island\", \n",
    "                                   \"Hawaii\", \"Puerto Rico\", \"United States Virgin Islands\", \n",
    "                                  \"Commonwealth of the Northern Mariana Islands\",\"Guam\",\n",
    "                                   \"American Samoa\"\n",
    "                                  ])]\n",
    "contig.plot(figsize=(10,10))"
   ]
  },
  {
   "cell_type": "markdown",
   "metadata": {},
   "source": [
    "## Writing Spatial Data \n",
    "\n",
    "<br></br>\n",
    "<font size=\"4\">Writing the GeoDataFrame to file is straightfoward by following this command:</font>\n",
    "\n",
    "`GeoDataFrame.to_file`"
   ]
  },
  {
   "cell_type": "code",
   "execution_count": 13,
   "metadata": {},
   "outputs": [],
   "source": [
    "contig.to_file(\"../Data/US_contig/contig.shp\")"
   ]
  },
  {
   "cell_type": "markdown",
   "metadata": {},
   "source": [
    "<font size=\"4\">Let's check if our writing is right by re-read the file, and plot it</font>"
   ]
  },
  {
   "cell_type": "code",
   "execution_count": 14,
   "metadata": {},
   "outputs": [
    {
     "data": {
      "text/plain": [
       "<matplotlib.axes._subplots.AxesSubplot at 0x114341048>"
      ]
     },
     "execution_count": 14,
     "metadata": {},
     "output_type": "execute_result"
    },
    {
     "data": {
      "image/png": "[encoded data removed]",
      "text/plain": [
       "<Figure size 720x720 with 1 Axes>"
      ]
     },
     "metadata": {},
     "output_type": "display_data"
    }
   ],
   "source": [
    "contig_check = gpd.read_file(\"../Data/US_contig/contig.shp\")\n",
    "contig_check.plot(figsize=(10,10))"
   ]
  },
  {
   "cell_type": "code",
   "execution_count": null,
   "metadata": {},
   "outputs": [],
   "source": []
  }
 ],
 "metadata": {
  "kernelspec": {
   "display_name": "Python [conda root]",
   "language": "python",
   "name": "conda-root-py"
  },
  "language_info": {
   "codemirror_mode": {
    "name": "ipython",
    "version": 3
   },
   "file_extension": ".py",
   "mimetype": "text/x-python",
   "name": "python",
   "nbconvert_exporter": "python",
   "pygments_lexer": "ipython3",
   "version": "3.5.4"
  }
 },
 "nbformat": 4,
 "nbformat_minor": 2
}
